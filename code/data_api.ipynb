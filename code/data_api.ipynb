{
 "cells": [
  {
   "attachments": {},
   "cell_type": "markdown",
   "metadata": {},
   "source": [
    "# Obtaining data through the ENTSO-E API"
   ]
  },
  {
   "cell_type": "code",
   "execution_count": null,
   "metadata": {},
   "outputs": [],
   "source": [
    "import pandas as pd\n",
    "from entsoe import EntsoePandasClient\n",
    "\n",
    "path = '/Users/jakagodec/Desktop/ist/es/project3/EnergyPrices/'"
   ]
  },
  {
   "attachments": {},
   "cell_type": "markdown",
   "metadata": {},
   "source": [
    "## Token\n",
    "Each user can access their own token by asking the ENTSO-E Transparency Platform support team for access (__[instructions](https://amsleser.no/blog/post/21-obtaining-api-token-from-entso-e)__). I did not want to publish my token so this is the solution for now."
   ]
  },
  {
   "cell_type": "code",
   "execution_count": null,
   "metadata": {},
   "outputs": [],
   "source": [
    "with open(path + 'data/token.txt', 'r') as t:\n",
    "    token = t.read()\n",
    "print('Token sucessfully loaded: ', token)\n",
    "\n",
    "client = EntsoePandasClient(api_key=token)"
   ]
  },
  {
   "attachments": {},
   "cell_type": "markdown",
   "metadata": {},
   "source": [
    "## Testing API calls\n",
    "More detailed description can be found on the `entsoe-py` __[github](https://github.com/EnergieID/entsoe-py#EntsoePandasClient)__. I tested some stuff for the countries we are interested in (broadly said the Balkans, although data for some countries - Bosnia and Herzegovina, Montenegro and North Macedonia - is missing). Country codes:\n",
    "* Slovenia: `SI`\n",
    "* Serbia: `RS`\n",
    "* Croatia: `HR`\n",
    "* Bulgaria: `BG`\n",
    "* Romania: `RO`\n",
    "* Greece: `GR`"
   ]
  },
  {
   "cell_type": "code",
   "execution_count": null,
   "metadata": {},
   "outputs": [],
   "source": [
    "country = 'SI'\n",
    "start = pd.Timestamp('20220101', tz='UTC')\n",
    "end = pd.Timestamp('20230101', tz='UTC')"
   ]
  },
  {
   "cell_type": "code",
   "execution_count": null,
   "metadata": {},
   "outputs": [],
   "source": [
    "prices = client.query_day_ahead_prices(country_code='BG', start=start, end=end)\n",
    "prices"
   ]
  },
  {
   "cell_type": "code",
   "execution_count": null,
   "metadata": {},
   "outputs": [],
   "source": [
    "generation = client.query_generation(country_code='SI', start=start, end=end)\n",
    "generation"
   ]
  },
  {
   "cell_type": "code",
   "execution_count": null,
   "metadata": {},
   "outputs": [],
   "source": [
    "generation.to_csv(path + 'data/SI_raw/SI_generation.csv')"
   ]
  },
  {
   "cell_type": "code",
   "execution_count": null,
   "metadata": {},
   "outputs": [],
   "source": [
    "unavailability = client.query_unavailability_of_generation_units(country_code='RS', start=start, end=end)\n",
    "unavailability"
   ]
  },
  {
   "cell_type": "code",
   "execution_count": null,
   "metadata": {},
   "outputs": [],
   "source": [
    "imports = client.query_import(country_code='RS', start=start, end=end)\n",
    "imports"
   ]
  },
  {
   "attachments": {},
   "cell_type": "markdown",
   "metadata": {},
   "source": [
    "## Raw data\n",
    "Query desired features and save raw files as CSV."
   ]
  },
  {
   "cell_type": "code",
   "execution_count": null,
   "metadata": {},
   "outputs": [],
   "source": [
    "def get_country_entsoe_raw(country_code, start_ts, end_ts):\n",
    "    \"\"\"\n",
    "    Query all data and save the outputs to CSV files.\n",
    "    \"\"\"\n",
    "    print('Obtaining data for country: ' + country_code)\n",
    "    country_path = path + 'data/' + country_code + '_raw/'\n",
    "    \n",
    "    # save prices\n",
    "    prices = client.query_day_ahead_prices(country_code=country_code, start=start_ts, end=end_ts)\n",
    "    prices.to_csv(country_path + country_code + '_prices.csv')\n",
    "    print('====== Saved prices data ============', end='\\r')\n",
    "\n",
    "    # save generation\n",
    "    generation = client.query_generation(country_code=country_code, start=start_ts, end=end_ts)\n",
    "    generation.to_csv(country_path + country_code + '_generation.csv')\n",
    "    print('====== Saved generation data ========', end='\\r')\n",
    "\n",
    "    # save consumption (actual and forecasted)\n",
    "    load = client.query_load_and_forecast(country_code=country_code, start=start_ts, end=end_ts)\n",
    "    load.to_csv(country_path + country_code + '_load.csv')\n",
    "    print('====== Saved load data ==============', end='\\r')\n",
    "\n",
    "    # save unavailability: HR has none\n",
    "    if country_code.lower() != 'HR':\n",
    "        unav = client.query_unavailability_of_generation_units(country_code=country_code, start=start_ts, end=end_ts)\n",
    "        unav.to_csv(country_path + country_code + '_unavailability.csv')\n",
    "        print('====== Saved unavailability data ====', end='\\r')\n",
    "    \n",
    "    # save imports\n",
    "    imprt = client.query_import(country_code=country_code, start=start_ts, end=end_ts)\n",
    "    imprt.to_csv(country_path + country_code + '_import.csv')\n",
    "    print('===> ' + country_code + ' done =======================')\n"
   ]
  },
  {
   "cell_type": "code",
   "execution_count": null,
   "metadata": {},
   "outputs": [],
   "source": [
    "t_start = pd.Timestamp('20220101', tz='UTC')\n",
    "t_end = pd.Timestamp('20230301', tz='UTC')\n",
    "\n",
    "get_country_entsoe_raw('SI', t_start, t_end)"
   ]
  },
  {
   "cell_type": "code",
   "execution_count": null,
   "metadata": {},
   "outputs": [],
   "source": [
    "codes = ['RS', 'RO', 'HR', 'GR', 'BG']\n",
    "\n",
    "for c in codes:\n",
    "    get_country_entsoe_raw(c, t_start, t_end)"
   ]
  },
  {
   "attachments": {},
   "cell_type": "markdown",
   "metadata": {},
   "source": [
    "## Weather data\n",
    "I manually saved the data from __[open-meteo.com](https://open-meteo.com/en/docs/historical-weather-api#latitude=44.43&longitude=26.11&start_date=2022-01-01&end_date=2023-03-01&hourly=temperature_2m,precipitation,direct_radiation&timezone=Europe%2FBerlin)__ for the capital cities of our countries, with the UTC timezone (same as the ENTSO-E data)."
   ]
  }
 ],
 "metadata": {
  "kernelspec": {
   "display_name": "Python 3",
   "language": "python",
   "name": "python3"
  },
  "language_info": {
   "codemirror_mode": {
    "name": "ipython",
    "version": 3
   },
   "file_extension": ".py",
   "mimetype": "text/x-python",
   "name": "python",
   "nbconvert_exporter": "python",
   "pygments_lexer": "ipython3",
   "version": "3.9.13"
  },
  "orig_nbformat": 4
 },
 "nbformat": 4,
 "nbformat_minor": 2
}
