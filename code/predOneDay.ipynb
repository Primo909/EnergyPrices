{
 "cells": [
  {
   "cell_type": "code",
   "execution_count": 1,
   "metadata": {},
   "outputs": [
    {
     "ename": "ModuleNotFoundError",
     "evalue": "No module named 'functions'",
     "output_type": "error",
     "traceback": [
      "\u001b[0;31m---------------------------------------------------------------------------\u001b[0m",
      "\u001b[0;31mModuleNotFoundError\u001b[0m                       Traceback (most recent call last)",
      "\u001b[0;32m<ipython-input-1-023effd07f84>\u001b[0m in \u001b[0;36m<module>\u001b[0;34m\u001b[0m\n\u001b[0;32m----> 1\u001b[0;31m \u001b[0;32mfrom\u001b[0m \u001b[0mfunctions\u001b[0m \u001b[0;32mimport\u001b[0m \u001b[0;34m*\u001b[0m\u001b[0;34m\u001b[0m\u001b[0;34m\u001b[0m\u001b[0m\n\u001b[0m\u001b[1;32m      2\u001b[0m \u001b[0;34m\u001b[0m\u001b[0m\n\u001b[1;32m      3\u001b[0m \u001b[0;34m\u001b[0m\u001b[0m\n\u001b[1;32m      4\u001b[0m \u001b[0;31m#train_model_country_day(data_country_input, day, n_features, model_type=\"rf\", model_parameters=None)\u001b[0m\u001b[0;34m\u001b[0m\u001b[0;34m\u001b[0m\u001b[0;34m\u001b[0m\u001b[0m\n\u001b[1;32m      5\u001b[0m \u001b[0;32mfrom\u001b[0m \u001b[0mplotly\u001b[0m\u001b[0;34m.\u001b[0m\u001b[0msubplots\u001b[0m \u001b[0;32mimport\u001b[0m \u001b[0mmake_subplots\u001b[0m\u001b[0;34m\u001b[0m\u001b[0;34m\u001b[0m\u001b[0m\n",
      "\u001b[0;31mModuleNotFoundError\u001b[0m: No module named 'functions'"
     ]
    }
   ],
   "source": [
    "from functions import *\n",
    "\n",
    "\n",
    "#train_model_country_day(data_country_input, day, n_features, model_type=\"rf\", model_parameters=None)\n",
    "from plotly.subplots import make_subplots\n",
    "def plotDayPrediction(day,n_features,model_type='rf',exclude_features=[\"Price-1\",\"Price-2\"]):\n",
    "        countries = [\"BG\", \"HR\", \"RO\", \"RS\", \"SI\"]\n",
    "        countries_clean=[]\n",
    "        for i,code in enumerate(countries):\n",
    "                print(i,code)\n",
    "                try: \n",
    "                        load_augumented(code).loc[day]\n",
    "                except: print(\"Date for this day does not exist\") \n",
    "                else: countries_clean.append(code)\n",
    "        print(countries_clean)\n",
    "        n = len(countries_clean)\n",
    "        fig = make_subplots(rows=n, cols=1)\n",
    "        def predOneDayOneCode(code,row,col):\n",
    "                df = load_augumented(code).drop(columns=exclude_features)\n",
    "                model, params, selected_features, err, predictions = train_model_country_day(df, day, 12, model_type=\"rf\")\n",
    "                def rolling(dataframe):\n",
    "                        return dataframe.rolling(window=roll_window).mean()\n",
    "                \n",
    "                \n",
    "                \n",
    "                df = df.loc[day]\n",
    "\n",
    "                fig.add_trace(go.Scatter(x=df.index, \n",
    "                                        y=df[\"DayAheadPrice\"], \n",
    "                                        name=\"Real price\",\n",
    "                                        mode=\"lines\",\n",
    "                                        line_color=\"blue\",),\n",
    "                                        row=row,col=col)  \n",
    "                \n",
    "                fig.add_trace(go.Scatter(x=predictions.index, \n",
    "                                        y=predictions, \n",
    "                                        name=\"Prediction\",\n",
    "                                        mode=\"lines\",\n",
    "                                        line_color=\"orange\",),\n",
    "                                        row=row,col=col)  #\n",
    "\n",
    "                fig.update_layout(\n",
    "                        #title={'text':'Prediction of Energy Price in %s' % (country_dict[code]),'x':0.5, 'xanchor':'center'},\n",
    "                        yaxis_title='Price (EUR/MWh)',\n",
    "                        xaxis_title='Date',\n",
    "                        showlegend=True)\n",
    "                \n",
    "                #return fig, selected_features, err\n",
    "                return 0\n",
    "        #figa=[None]*n\n",
    "        #sfa=[None]*n\n",
    "        #erra=[None]*n\n",
    "        for i,code in enumerate(countries_clean):\n",
    "                print(code)\n",
    "                predOneDayOneCode(code,i+1,1)\n",
    "        #code = \"SI\"\n",
    "        #figa, sfa, erra=predOneDayOneCode(code,1,1)\n",
    "        #print(\"aaskdjflöaksjdlfkjaskldjfkajdfölaj\")\n",
    "        fig.update_layout(legend=dict(\n",
    "                orientation=\"h\",\n",
    "                entrywidth=120,\n",
    "                yanchor=\"bottom\",\n",
    "                y=1.02,\n",
    "                xanchor=\"right\",\n",
    "                x=1\n",
    "                ))\n",
    "        return fig,sfa,erra\n",
    "figa, sfa, erra = plotDayPrediction(\"2022-06-03\",12)\n",
    "figa.show()"
   ]
  },
  {
   "cell_type": "code",
   "execution_count": null,
   "metadata": {},
   "outputs": [],
   "source": []
  }
 ],
 "metadata": {
  "kernelspec": {
   "display_name": "Python 3",
   "language": "python",
   "name": "python3"
  },
  "language_info": {
   "codemirror_mode": {
    "name": "ipython",
    "version": 3
   },
   "file_extension": ".py",
   "mimetype": "text/x-python",
   "name": "python",
   "nbconvert_exporter": "python",
   "pygments_lexer": "ipython3",
   "version": "3.8.10"
  },
  "orig_nbformat": 4
 },
 "nbformat": 4,
 "nbformat_minor": 2
}
