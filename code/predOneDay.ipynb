{
 "cells": [
  {
   "cell_type": "code",
   "execution_count": 1,
   "metadata": {},
   "outputs": [],
   "source": [
    "from functions import *\n",
    "import pandas as pd\n",
    "from matplotlib import pyplot as plt\n",
    "import numpy as np\n",
    "import pickle\n",
    "import plotly.express as px\n",
    "import plotly.graph_objects as go\n",
    "\n",
    "import dash\n",
    "from dash import html,Input,Output,dcc\n",
    "from dash.dependencies import Input, Output, State\n",
    "import geopandas as gpd\n",
    "from datetime import date\n",
    "country_dict = {\n",
    "\"BG\":\"Bulgaria\",\n",
    "\"GR\":\"Greece\",\n",
    "\"HR\":\"Croatia\",\n",
    "\"RO\":\"Romania\",\n",
    "\"RS\":\"Republic of Serbia\",\n",
    "\"SI\":\"Slovenia\",\n",
    "}\n",
    "path=\"../\"\n",
    "def load_augumented(code):\n",
    "    file = path + 'data/augumented/' + code + '.pkl'\n",
    "    with open(file, 'rb') as f:\n",
    "        df = pickle.load(f)\n",
    "    return df.drop(columns=[\"Load-1\",\"Load-24\"])\n",
    "def day_split(data_country, features, day):\n",
    "    data_country=data_country.dropna()\n",
    "    y = data_country['DayAheadPrice']\n",
    "    x = data_country[features]\n",
    "    x_train, x_test, y_train, y_test = x[x.index<day], x.loc[day], y[y.index<day], y.loc[day]\n",
    "    print(\"AJLKAJLKAJ\")\n",
    "    return x_train, x_test, y_train, y_test\n",
    "def train_model_country_day(data_country_input, day, n_features,model_type=\"rf\", model_parameters=None):\n",
    "    \"\"\"\n",
    "    Train a ML model. This function does the following:\n",
    "        1. rescales the input data\n",
    "        2. train test split\n",
    "        3. feature selection on the training data\n",
    "        4. train the model: either NN or RF\n",
    "    \n",
    "    Parameters:\n",
    "        model_type: 'rf' | 'nn' | 'lr', str\n",
    "            type of the model to train, 'rf' for random forest, 'lr' for linear regression and 'nn' for neural network\n",
    "        data_country: DataFrame\n",
    "            cleaned data for a given country (no Nans etc)\n",
    "        n_features: int\n",
    "            number of best features to select\n",
    "        model_parameters: dict\n",
    "            dictionary with model parameters, which are parameters for either \n",
    "            MLPRegressor or RandomForestRegressor from sklearn\n",
    "    \n",
    "    \n",
    "    Out:\n",
    "        model: object\n",
    "            sklearn model\n",
    "        params: DataFrame\n",
    "            parameters used for rescaling the data; predictions have to be scaled back \n",
    "            for error calculation and out-of-sample new data must be scaled using these params\n",
    "        selected_features: list or Index, not sure\n",
    "            features used in training this model\n",
    "        err: Series\n",
    "            errors for predictions\n",
    "    \"\"\"\n",
    "    data_country = data_country_input.copy()\n",
    "    data_country, params = rescale(data_country)\n",
    "    x_train, x_test, y_train, y_test = day_split(data_country, data_country.columns[1:],day)\n",
    "    selected_features = get_best_features(x_train, n_features)\n",
    "\n",
    "    x_train = x_train[selected_features]\n",
    "    x_test = x_test[selected_features]\n",
    "\n",
    "    if model_type.lower() == 'nn':\n",
    "        if model_parameters == None:\n",
    "            # these parameters worked okay for project 1\n",
    "            model_parameters = {\n",
    "                'hidden_layer_sizes': (16,16,14)\n",
    "            }\n",
    "        model = MLPRegressor(**model_parameters)\n",
    "    elif model_type.lower() == 'lr':\n",
    "       model = linear_model.LinearRegression() \n",
    "    elif model_type.lower() == 'rf':\n",
    "        if model_parameters == None:\n",
    "            # these parameters worked okay for project 1\n",
    "            model_parameters = {\n",
    "                'bootstrap': True,\n",
    "                'min_samples_leaf': 2,\n",
    "                'n_estimators': 10, \n",
    "                'min_samples_split': 3,\n",
    "                'max_features': 10,\n",
    "                'max_depth': 10,\n",
    "                'max_leaf_nodes': None}\n",
    "            \n",
    "        model = RandomForestRegressor(**model_parameters)\n",
    "\n",
    "    model.fit(x_train, y_train)\n",
    "    predictions = model.predict(x_test)\n",
    "\n",
    "    predictions = pd.Series(predictions, index=y_test.index).sort_index()\n",
    "    y_test = y_test.sort_index()\n",
    "\n",
    "\n",
    "    # to calculate errors, we have to rescale the data back using original parameters\n",
    "    predictions = predictions * params.loc['DayAheadPrice', 'Std'] + params.loc['DayAheadPrice', 'Mean']\n",
    "    y_test = y_test * params.loc['DayAheadPrice', 'Std'] + params.loc['DayAheadPrice', 'Mean']\n",
    "    err = get_errors(y_test, predictions)\n",
    "\n",
    "    #display(err)\n",
    "    #plot_predictions(y_test, predictions)\n",
    "    \n",
    "    return model, params, selected_features, err, predictions"
   ]
  },
  {
   "cell_type": "code",
   "execution_count": 6,
   "metadata": {},
   "outputs": [
    {
     "name": "stdout",
     "output_type": "stream",
     "text": [
      "1 1\n",
      "AJLKAJLKAJ\n",
      "1 2\n",
      "AJLKAJLKAJ\n",
      "2 2\n",
      "AJLKAJLKAJ\n",
      "2 1\n",
      "AJLKAJLKAJ\n"
     ]
    },
    {
     "data": {
      "text/html": [
       "<div>\n",
       "<style scoped>\n",
       "    .dataframe tbody tr th:only-of-type {\n",
       "        vertical-align: middle;\n",
       "    }\n",
       "\n",
       "    .dataframe tbody tr th {\n",
       "        vertical-align: top;\n",
       "    }\n",
       "\n",
       "    .dataframe thead th {\n",
       "        text-align: right;\n",
       "    }\n",
       "</style>\n",
       "<table border=\"1\" class=\"dataframe\">\n",
       "  <thead>\n",
       "    <tr style=\"text-align: right;\">\n",
       "      <th></th>\n",
       "      <th>Bulgaria</th>\n",
       "      <th>Croatia</th>\n",
       "      <th>Romania</th>\n",
       "      <th>Slovenia</th>\n",
       "    </tr>\n",
       "  </thead>\n",
       "  <tbody>\n",
       "    <tr>\n",
       "      <th>Root mean squared error</th>\n",
       "      <td>88.376684</td>\n",
       "      <td>60.043348</td>\n",
       "      <td>64.372254</td>\n",
       "      <td>53.287428</td>\n",
       "    </tr>\n",
       "    <tr>\n",
       "      <th>Coefficient of variation RMSE</th>\n",
       "      <td>0.291814</td>\n",
       "      <td>0.159804</td>\n",
       "      <td>0.182354</td>\n",
       "      <td>0.138990</td>\n",
       "    </tr>\n",
       "    <tr>\n",
       "      <th>Normalized mean bias error</th>\n",
       "      <td>-0.137909</td>\n",
       "      <td>0.063255</td>\n",
       "      <td>-0.058043</td>\n",
       "      <td>0.100923</td>\n",
       "    </tr>\n",
       "    <tr>\n",
       "      <th>R2 score</th>\n",
       "      <td>0.185565</td>\n",
       "      <td>-0.283452</td>\n",
       "      <td>0.270924</td>\n",
       "      <td>-0.233575</td>\n",
       "    </tr>\n",
       "  </tbody>\n",
       "</table>\n",
       "</div>"
      ],
      "text/plain": [
       "                                Bulgaria    Croatia    Romania   Slovenia\n",
       "Root mean squared error        88.376684  60.043348  64.372254  53.287428\n",
       "Coefficient of variation RMSE   0.291814   0.159804   0.182354   0.138990\n",
       "Normalized mean bias error     -0.137909   0.063255  -0.058043   0.100923\n",
       "R2 score                        0.185565  -0.283452   0.270924  -0.233575"
      ]
     },
     "metadata": {},
     "output_type": "display_data"
    },
    {
     "data": {
      "application/vnd.plotly.v1+json": {
       "config": {
        "plotlyServerURL": "https://plot.ly"
       },
       "data": [
        {
         "line": {
          "color": "blue"
         },
         "mode": "lines",
         "name": "Real price",
         "type": "scatter",
         "x": [
          "2022-07-13T00:00:00+00:00",
          "2022-07-13T01:00:00+00:00",
          "2022-07-13T02:00:00+00:00",
          "2022-07-13T03:00:00+00:00",
          "2022-07-13T04:00:00+00:00",
          "2022-07-13T05:00:00+00:00",
          "2022-07-13T06:00:00+00:00",
          "2022-07-13T07:00:00+00:00",
          "2022-07-13T08:00:00+00:00",
          "2022-07-13T09:00:00+00:00",
          "2022-07-13T10:00:00+00:00",
          "2022-07-13T11:00:00+00:00",
          "2022-07-13T12:00:00+00:00",
          "2022-07-13T13:00:00+00:00",
          "2022-07-13T14:00:00+00:00",
          "2022-07-13T15:00:00+00:00",
          "2022-07-13T16:00:00+00:00",
          "2022-07-13T17:00:00+00:00",
          "2022-07-13T18:00:00+00:00",
          "2022-07-13T19:00:00+00:00",
          "2022-07-13T20:00:00+00:00",
          "2022-07-13T21:00:00+00:00",
          "2022-07-13T22:00:00+00:00",
          "2022-07-13T23:00:00+00:00"
         ],
         "xaxis": "x",
         "y": [
          295,
          281.25,
          277.15,
          332.22,
          411.97,
          435,
          415.04,
          259.77,
          199.43,
          175.15,
          175.12,
          160.24,
          160.24,
          169.15,
          199.44,
          312.92,
          264.73,
          424.99,
          447.26,
          303.6,
          430,
          365.11,
          398.1,
          375.58
         ],
         "yaxis": "y"
        },
        {
         "line": {
          "color": "orange"
         },
         "mode": "lines+markers",
         "name": "Prediction",
         "type": "scatter",
         "x": [
          "2022-07-13T00:00:00+00:00",
          "2022-07-13T01:00:00+00:00",
          "2022-07-13T02:00:00+00:00",
          "2022-07-13T03:00:00+00:00",
          "2022-07-13T04:00:00+00:00",
          "2022-07-13T05:00:00+00:00",
          "2022-07-13T06:00:00+00:00",
          "2022-07-13T07:00:00+00:00",
          "2022-07-13T08:00:00+00:00",
          "2022-07-13T09:00:00+00:00",
          "2022-07-13T10:00:00+00:00",
          "2022-07-13T11:00:00+00:00",
          "2022-07-13T12:00:00+00:00",
          "2022-07-13T13:00:00+00:00",
          "2022-07-13T14:00:00+00:00",
          "2022-07-13T15:00:00+00:00",
          "2022-07-13T16:00:00+00:00",
          "2022-07-13T17:00:00+00:00",
          "2022-07-13T18:00:00+00:00",
          "2022-07-13T19:00:00+00:00",
          "2022-07-13T20:00:00+00:00",
          "2022-07-13T21:00:00+00:00",
          "2022-07-13T22:00:00+00:00",
          "2022-07-13T23:00:00+00:00"
         ],
         "xaxis": "x",
         "y": [
          278.6165424540997,
          278.6165424540997,
          278.6165424540997,
          318.32744461947016,
          347.44433349148176,
          469.0902444263363,
          445.5802023017942,
          305.61604012074065,
          286.98127641125024,
          322.93369272870177,
          286.6542064811803,
          305.3108004409171,
          319.2486641636142,
          286.6922539050679,
          335.2575528978638,
          336.77526105465574,
          375.5479643548341,
          462.63274442633633,
          469.8852444263363,
          456.13248801607995,
          395.0614361845781,
          299.7453977526977,
          292.19712403474904,
          317.87949639799723
         ],
         "yaxis": "y"
        },
        {
         "line": {
          "color": "blue"
         },
         "mode": "lines",
         "name": "Real price",
         "type": "scatter",
         "x": [
          "2022-07-13T00:00:00+00:00",
          "2022-07-13T01:00:00+00:00",
          "2022-07-13T02:00:00+00:00",
          "2022-07-13T03:00:00+00:00",
          "2022-07-13T04:00:00+00:00",
          "2022-07-13T05:00:00+00:00",
          "2022-07-13T06:00:00+00:00",
          "2022-07-13T07:00:00+00:00",
          "2022-07-13T08:00:00+00:00",
          "2022-07-13T09:00:00+00:00",
          "2022-07-13T10:00:00+00:00",
          "2022-07-13T11:00:00+00:00",
          "2022-07-13T12:00:00+00:00",
          "2022-07-13T13:00:00+00:00",
          "2022-07-13T14:00:00+00:00",
          "2022-07-13T15:00:00+00:00",
          "2022-07-13T16:00:00+00:00",
          "2022-07-13T17:00:00+00:00",
          "2022-07-13T18:00:00+00:00",
          "2022-07-13T19:00:00+00:00",
          "2022-07-13T20:00:00+00:00",
          "2022-07-13T21:00:00+00:00",
          "2022-07-13T22:00:00+00:00",
          "2022-07-13T23:00:00+00:00"
         ],
         "xaxis": "x2",
         "y": [
          338.72,
          342.7,
          325.04,
          332.22,
          411.97,
          435,
          458.76,
          426.48,
          371.58,
          400.41,
          328.8,
          319.06,
          303.58,
          284.26,
          299.59,
          347.18,
          357.95,
          438.48,
          451.64,
          449.36,
          437.82,
          377.24,
          401.64,
          378.06
         ],
         "yaxis": "y2"
        },
        {
         "line": {
          "color": "orange"
         },
         "mode": "lines+markers",
         "name": "Prediction",
         "type": "scatter",
         "x": [
          "2022-07-13T00:00:00+00:00",
          "2022-07-13T01:00:00+00:00",
          "2022-07-13T02:00:00+00:00",
          "2022-07-13T03:00:00+00:00",
          "2022-07-13T04:00:00+00:00",
          "2022-07-13T05:00:00+00:00",
          "2022-07-13T06:00:00+00:00",
          "2022-07-13T07:00:00+00:00",
          "2022-07-13T08:00:00+00:00",
          "2022-07-13T09:00:00+00:00",
          "2022-07-13T10:00:00+00:00",
          "2022-07-13T11:00:00+00:00",
          "2022-07-13T12:00:00+00:00",
          "2022-07-13T13:00:00+00:00",
          "2022-07-13T14:00:00+00:00",
          "2022-07-13T15:00:00+00:00",
          "2022-07-13T16:00:00+00:00",
          "2022-07-13T17:00:00+00:00",
          "2022-07-13T18:00:00+00:00",
          "2022-07-13T19:00:00+00:00",
          "2022-07-13T20:00:00+00:00",
          "2022-07-13T21:00:00+00:00",
          "2022-07-13T22:00:00+00:00",
          "2022-07-13T23:00:00+00:00"
         ],
         "xaxis": "x2",
         "y": [
          276.75883985507244,
          276.75883985507244,
          276.75883985507244,
          321.3027775335775,
          384.8966952380952,
          399.1503680434928,
          400.19128471015944,
          384.4872345782161,
          393.5231691020257,
          383.1570995506065,
          385.07479907405593,
          336.4322500571324,
          316.8583445015769,
          311.35234450157685,
          373.58125740773926,
          385.69175627395236,
          390.93164495922446,
          379.23848422217145,
          373.84534522603246,
          381.3042352370023,
          389.2330606338277,
          419.39061804349274,
          268.25505555555554,
          238.95742222222222
         ],
         "yaxis": "y2"
        },
        {
         "line": {
          "color": "blue"
         },
         "mode": "lines",
         "name": "Real price",
         "type": "scatter",
         "x": [
          "2022-07-13T00:00:00+00:00",
          "2022-07-13T01:00:00+00:00",
          "2022-07-13T02:00:00+00:00",
          "2022-07-13T03:00:00+00:00",
          "2022-07-13T04:00:00+00:00",
          "2022-07-13T05:00:00+00:00",
          "2022-07-13T06:00:00+00:00",
          "2022-07-13T07:00:00+00:00",
          "2022-07-13T08:00:00+00:00",
          "2022-07-13T09:00:00+00:00",
          "2022-07-13T10:00:00+00:00",
          "2022-07-13T11:00:00+00:00",
          "2022-07-13T12:00:00+00:00",
          "2022-07-13T13:00:00+00:00",
          "2022-07-13T14:00:00+00:00",
          "2022-07-13T15:00:00+00:00",
          "2022-07-13T16:00:00+00:00",
          "2022-07-13T17:00:00+00:00",
          "2022-07-13T18:00:00+00:00",
          "2022-07-13T19:00:00+00:00",
          "2022-07-13T20:00:00+00:00",
          "2022-07-13T21:00:00+00:00",
          "2022-07-13T22:00:00+00:00",
          "2022-07-13T23:00:00+00:00"
         ],
         "xaxis": "x4",
         "y": [
          342.74,
          334.09,
          325.04,
          332.22,
          411.97,
          435,
          458.19,
          415.08,
          351.72,
          353.59,
          307.67,
          291.54,
          261.81,
          179.24,
          199.44,
          312.92,
          264.73,
          429.59,
          447.26,
          445.55,
          431.51,
          365.11,
          398.1,
          378.06
         ],
         "yaxis": "y4"
        },
        {
         "line": {
          "color": "orange"
         },
         "mode": "lines+markers",
         "name": "Prediction",
         "type": "scatter",
         "x": [
          "2022-07-13T00:00:00+00:00",
          "2022-07-13T01:00:00+00:00",
          "2022-07-13T02:00:00+00:00",
          "2022-07-13T03:00:00+00:00",
          "2022-07-13T04:00:00+00:00",
          "2022-07-13T05:00:00+00:00",
          "2022-07-13T06:00:00+00:00",
          "2022-07-13T07:00:00+00:00",
          "2022-07-13T08:00:00+00:00",
          "2022-07-13T09:00:00+00:00",
          "2022-07-13T10:00:00+00:00",
          "2022-07-13T11:00:00+00:00",
          "2022-07-13T12:00:00+00:00",
          "2022-07-13T13:00:00+00:00",
          "2022-07-13T14:00:00+00:00",
          "2022-07-13T15:00:00+00:00",
          "2022-07-13T16:00:00+00:00",
          "2022-07-13T17:00:00+00:00",
          "2022-07-13T18:00:00+00:00",
          "2022-07-13T19:00:00+00:00",
          "2022-07-13T20:00:00+00:00",
          "2022-07-13T21:00:00+00:00",
          "2022-07-13T22:00:00+00:00",
          "2022-07-13T23:00:00+00:00"
         ],
         "xaxis": "x4",
         "y": [
          367.9686684842197,
          367.9686684842197,
          354.93133515088635,
          340.98872508477496,
          401.71519890356507,
          478.81746312709026,
          382.9341348603135,
          367.206945567455,
          364.3289184970617,
          348.9983054396053,
          341.8048859476522,
          348.9983054396053,
          357.03134912924895,
          328.01868858503127,
          344.5943176773675,
          336.8327984065389,
          404.7400289279634,
          395.6240989329511,
          394.69365607580824,
          400.5758614329511,
          392.34746216555186,
          394.4103809689707,
          405.4906927713839,
          342.90161261300756
         ],
         "yaxis": "y4"
        },
        {
         "line": {
          "color": "blue"
         },
         "mode": "lines",
         "name": "Real price",
         "type": "scatter",
         "x": [
          "2022-07-13T00:00:00+00:00",
          "2022-07-13T01:00:00+00:00",
          "2022-07-13T02:00:00+00:00",
          "2022-07-13T03:00:00+00:00",
          "2022-07-13T04:00:00+00:00",
          "2022-07-13T05:00:00+00:00",
          "2022-07-13T06:00:00+00:00",
          "2022-07-13T07:00:00+00:00",
          "2022-07-13T08:00:00+00:00",
          "2022-07-13T09:00:00+00:00",
          "2022-07-13T10:00:00+00:00",
          "2022-07-13T11:00:00+00:00",
          "2022-07-13T12:00:00+00:00",
          "2022-07-13T13:00:00+00:00",
          "2022-07-13T14:00:00+00:00",
          "2022-07-13T15:00:00+00:00",
          "2022-07-13T16:00:00+00:00",
          "2022-07-13T17:00:00+00:00",
          "2022-07-13T18:00:00+00:00",
          "2022-07-13T19:00:00+00:00",
          "2022-07-13T20:00:00+00:00",
          "2022-07-13T21:00:00+00:00",
          "2022-07-13T22:00:00+00:00",
          "2022-07-13T23:00:00+00:00"
         ],
         "xaxis": "x3",
         "y": [
          336.72,
          344.89,
          325.04,
          332.22,
          411.97,
          435,
          458.91,
          429.38,
          376.53,
          428.09,
          335,
          327.88,
          317.91,
          325.03,
          335,
          355.09,
          384.57,
          440.16,
          452.5,
          450.1,
          439.13,
          379.82,
          402.37,
          378.06
         ],
         "yaxis": "y3"
        },
        {
         "line": {
          "color": "orange"
         },
         "mode": "lines+markers",
         "name": "Prediction",
         "type": "scatter",
         "x": [
          "2022-07-13T00:00:00+00:00",
          "2022-07-13T01:00:00+00:00",
          "2022-07-13T02:00:00+00:00",
          "2022-07-13T03:00:00+00:00",
          "2022-07-13T04:00:00+00:00",
          "2022-07-13T05:00:00+00:00",
          "2022-07-13T06:00:00+00:00",
          "2022-07-13T07:00:00+00:00",
          "2022-07-13T08:00:00+00:00",
          "2022-07-13T09:00:00+00:00",
          "2022-07-13T10:00:00+00:00",
          "2022-07-13T11:00:00+00:00",
          "2022-07-13T12:00:00+00:00",
          "2022-07-13T13:00:00+00:00",
          "2022-07-13T14:00:00+00:00",
          "2022-07-13T15:00:00+00:00",
          "2022-07-13T16:00:00+00:00",
          "2022-07-13T17:00:00+00:00",
          "2022-07-13T18:00:00+00:00",
          "2022-07-13T19:00:00+00:00",
          "2022-07-13T20:00:00+00:00",
          "2022-07-13T21:00:00+00:00",
          "2022-07-13T22:00:00+00:00",
          "2022-07-13T23:00:00+00:00"
         ],
         "xaxis": "x3",
         "y": [
          228.2762843822844,
          244.50478438228438,
          228.2762843822844,
          293.8898901639344,
          354.0796848484848,
          391.68356666666665,
          389.31190909090907,
          353.4845811594203,
          349.3702268789103,
          339.77747037539575,
          327.8485333333333,
          314.1945203753957,
          293.1211870420624,
          290.02363704206243,
          361.5457268789103,
          378.92802694250196,
          374.289615,
          413.61370454545454,
          439.62143333333336,
          422.71284025974023,
          378.5775043939394,
          389.464433939394,
          380.42293484848483,
          335.72450683060106
         ],
         "yaxis": "y3"
        }
       ],
       "layout": {
        "annotations": [
         {
          "font": {
           "size": 16
          },
          "showarrow": false,
          "text": "Bulgaria",
          "x": 0.225,
          "xanchor": "center",
          "xref": "paper",
          "y": 1,
          "yanchor": "bottom",
          "yref": "paper"
         },
         {
          "font": {
           "size": 16
          },
          "showarrow": false,
          "text": "Croatia",
          "x": 0.775,
          "xanchor": "center",
          "xref": "paper",
          "y": 1,
          "yanchor": "bottom",
          "yref": "paper"
         },
         {
          "font": {
           "size": 16
          },
          "showarrow": false,
          "text": "Romania",
          "x": 0.225,
          "xanchor": "center",
          "xref": "paper",
          "y": 0.71875,
          "yanchor": "bottom",
          "yref": "paper"
         },
         {
          "font": {
           "size": 16
          },
          "showarrow": false,
          "text": "Slovenia",
          "x": 0.775,
          "xanchor": "center",
          "xref": "paper",
          "y": 0.71875,
          "yanchor": "bottom",
          "yref": "paper"
         }
        ],
        "legend": {
         "entrywidth": 120,
         "orientation": "h",
         "x": 1,
         "xanchor": "right",
         "y": 1.02,
         "yanchor": "bottom"
        },
        "showlegend": false,
        "template": {
         "data": {
          "bar": [
           {
            "error_x": {
             "color": "#2a3f5f"
            },
            "error_y": {
             "color": "#2a3f5f"
            },
            "marker": {
             "line": {
              "color": "#E5ECF6",
              "width": 0.5
             },
             "pattern": {
              "fillmode": "overlay",
              "size": 10,
              "solidity": 0.2
             }
            },
            "type": "bar"
           }
          ],
          "barpolar": [
           {
            "marker": {
             "line": {
              "color": "#E5ECF6",
              "width": 0.5
             },
             "pattern": {
              "fillmode": "overlay",
              "size": 10,
              "solidity": 0.2
             }
            },
            "type": "barpolar"
           }
          ],
          "carpet": [
           {
            "aaxis": {
             "endlinecolor": "#2a3f5f",
             "gridcolor": "white",
             "linecolor": "white",
             "minorgridcolor": "white",
             "startlinecolor": "#2a3f5f"
            },
            "baxis": {
             "endlinecolor": "#2a3f5f",
             "gridcolor": "white",
             "linecolor": "white",
             "minorgridcolor": "white",
             "startlinecolor": "#2a3f5f"
            },
            "type": "carpet"
           }
          ],
          "choropleth": [
           {
            "colorbar": {
             "outlinewidth": 0,
             "ticks": ""
            },
            "type": "choropleth"
           }
          ],
          "contour": [
           {
            "colorbar": {
             "outlinewidth": 0,
             "ticks": ""
            },
            "colorscale": [
             [
              0,
              "#0d0887"
             ],
             [
              0.1111111111111111,
              "#46039f"
             ],
             [
              0.2222222222222222,
              "#7201a8"
             ],
             [
              0.3333333333333333,
              "#9c179e"
             ],
             [
              0.4444444444444444,
              "#bd3786"
             ],
             [
              0.5555555555555556,
              "#d8576b"
             ],
             [
              0.6666666666666666,
              "#ed7953"
             ],
             [
              0.7777777777777778,
              "#fb9f3a"
             ],
             [
              0.8888888888888888,
              "#fdca26"
             ],
             [
              1,
              "#f0f921"
             ]
            ],
            "type": "contour"
           }
          ],
          "contourcarpet": [
           {
            "colorbar": {
             "outlinewidth": 0,
             "ticks": ""
            },
            "type": "contourcarpet"
           }
          ],
          "heatmap": [
           {
            "colorbar": {
             "outlinewidth": 0,
             "ticks": ""
            },
            "colorscale": [
             [
              0,
              "#0d0887"
             ],
             [
              0.1111111111111111,
              "#46039f"
             ],
             [
              0.2222222222222222,
              "#7201a8"
             ],
             [
              0.3333333333333333,
              "#9c179e"
             ],
             [
              0.4444444444444444,
              "#bd3786"
             ],
             [
              0.5555555555555556,
              "#d8576b"
             ],
             [
              0.6666666666666666,
              "#ed7953"
             ],
             [
              0.7777777777777778,
              "#fb9f3a"
             ],
             [
              0.8888888888888888,
              "#fdca26"
             ],
             [
              1,
              "#f0f921"
             ]
            ],
            "type": "heatmap"
           }
          ],
          "heatmapgl": [
           {
            "colorbar": {
             "outlinewidth": 0,
             "ticks": ""
            },
            "colorscale": [
             [
              0,
              "#0d0887"
             ],
             [
              0.1111111111111111,
              "#46039f"
             ],
             [
              0.2222222222222222,
              "#7201a8"
             ],
             [
              0.3333333333333333,
              "#9c179e"
             ],
             [
              0.4444444444444444,
              "#bd3786"
             ],
             [
              0.5555555555555556,
              "#d8576b"
             ],
             [
              0.6666666666666666,
              "#ed7953"
             ],
             [
              0.7777777777777778,
              "#fb9f3a"
             ],
             [
              0.8888888888888888,
              "#fdca26"
             ],
             [
              1,
              "#f0f921"
             ]
            ],
            "type": "heatmapgl"
           }
          ],
          "histogram": [
           {
            "marker": {
             "pattern": {
              "fillmode": "overlay",
              "size": 10,
              "solidity": 0.2
             }
            },
            "type": "histogram"
           }
          ],
          "histogram2d": [
           {
            "colorbar": {
             "outlinewidth": 0,
             "ticks": ""
            },
            "colorscale": [
             [
              0,
              "#0d0887"
             ],
             [
              0.1111111111111111,
              "#46039f"
             ],
             [
              0.2222222222222222,
              "#7201a8"
             ],
             [
              0.3333333333333333,
              "#9c179e"
             ],
             [
              0.4444444444444444,
              "#bd3786"
             ],
             [
              0.5555555555555556,
              "#d8576b"
             ],
             [
              0.6666666666666666,
              "#ed7953"
             ],
             [
              0.7777777777777778,
              "#fb9f3a"
             ],
             [
              0.8888888888888888,
              "#fdca26"
             ],
             [
              1,
              "#f0f921"
             ]
            ],
            "type": "histogram2d"
           }
          ],
          "histogram2dcontour": [
           {
            "colorbar": {
             "outlinewidth": 0,
             "ticks": ""
            },
            "colorscale": [
             [
              0,
              "#0d0887"
             ],
             [
              0.1111111111111111,
              "#46039f"
             ],
             [
              0.2222222222222222,
              "#7201a8"
             ],
             [
              0.3333333333333333,
              "#9c179e"
             ],
             [
              0.4444444444444444,
              "#bd3786"
             ],
             [
              0.5555555555555556,
              "#d8576b"
             ],
             [
              0.6666666666666666,
              "#ed7953"
             ],
             [
              0.7777777777777778,
              "#fb9f3a"
             ],
             [
              0.8888888888888888,
              "#fdca26"
             ],
             [
              1,
              "#f0f921"
             ]
            ],
            "type": "histogram2dcontour"
           }
          ],
          "mesh3d": [
           {
            "colorbar": {
             "outlinewidth": 0,
             "ticks": ""
            },
            "type": "mesh3d"
           }
          ],
          "parcoords": [
           {
            "line": {
             "colorbar": {
              "outlinewidth": 0,
              "ticks": ""
             }
            },
            "type": "parcoords"
           }
          ],
          "pie": [
           {
            "automargin": true,
            "type": "pie"
           }
          ],
          "scatter": [
           {
            "fillpattern": {
             "fillmode": "overlay",
             "size": 10,
             "solidity": 0.2
            },
            "type": "scatter"
           }
          ],
          "scatter3d": [
           {
            "line": {
             "colorbar": {
              "outlinewidth": 0,
              "ticks": ""
             }
            },
            "marker": {
             "colorbar": {
              "outlinewidth": 0,
              "ticks": ""
             }
            },
            "type": "scatter3d"
           }
          ],
          "scattercarpet": [
           {
            "marker": {
             "colorbar": {
              "outlinewidth": 0,
              "ticks": ""
             }
            },
            "type": "scattercarpet"
           }
          ],
          "scattergeo": [
           {
            "marker": {
             "colorbar": {
              "outlinewidth": 0,
              "ticks": ""
             }
            },
            "type": "scattergeo"
           }
          ],
          "scattergl": [
           {
            "marker": {
             "colorbar": {
              "outlinewidth": 0,
              "ticks": ""
             }
            },
            "type": "scattergl"
           }
          ],
          "scattermapbox": [
           {
            "marker": {
             "colorbar": {
              "outlinewidth": 0,
              "ticks": ""
             }
            },
            "type": "scattermapbox"
           }
          ],
          "scatterpolar": [
           {
            "marker": {
             "colorbar": {
              "outlinewidth": 0,
              "ticks": ""
             }
            },
            "type": "scatterpolar"
           }
          ],
          "scatterpolargl": [
           {
            "marker": {
             "colorbar": {
              "outlinewidth": 0,
              "ticks": ""
             }
            },
            "type": "scatterpolargl"
           }
          ],
          "scatterternary": [
           {
            "marker": {
             "colorbar": {
              "outlinewidth": 0,
              "ticks": ""
             }
            },
            "type": "scatterternary"
           }
          ],
          "surface": [
           {
            "colorbar": {
             "outlinewidth": 0,
             "ticks": ""
            },
            "colorscale": [
             [
              0,
              "#0d0887"
             ],
             [
              0.1111111111111111,
              "#46039f"
             ],
             [
              0.2222222222222222,
              "#7201a8"
             ],
             [
              0.3333333333333333,
              "#9c179e"
             ],
             [
              0.4444444444444444,
              "#bd3786"
             ],
             [
              0.5555555555555556,
              "#d8576b"
             ],
             [
              0.6666666666666666,
              "#ed7953"
             ],
             [
              0.7777777777777778,
              "#fb9f3a"
             ],
             [
              0.8888888888888888,
              "#fdca26"
             ],
             [
              1,
              "#f0f921"
             ]
            ],
            "type": "surface"
           }
          ],
          "table": [
           {
            "cells": {
             "fill": {
              "color": "#EBF0F8"
             },
             "line": {
              "color": "white"
             }
            },
            "header": {
             "fill": {
              "color": "#C8D4E3"
             },
             "line": {
              "color": "white"
             }
            },
            "type": "table"
           }
          ]
         },
         "layout": {
          "annotationdefaults": {
           "arrowcolor": "#2a3f5f",
           "arrowhead": 0,
           "arrowwidth": 1
          },
          "autotypenumbers": "strict",
          "coloraxis": {
           "colorbar": {
            "outlinewidth": 0,
            "ticks": ""
           }
          },
          "colorscale": {
           "diverging": [
            [
             0,
             "#8e0152"
            ],
            [
             0.1,
             "#c51b7d"
            ],
            [
             0.2,
             "#de77ae"
            ],
            [
             0.3,
             "#f1b6da"
            ],
            [
             0.4,
             "#fde0ef"
            ],
            [
             0.5,
             "#f7f7f7"
            ],
            [
             0.6,
             "#e6f5d0"
            ],
            [
             0.7,
             "#b8e186"
            ],
            [
             0.8,
             "#7fbc41"
            ],
            [
             0.9,
             "#4d9221"
            ],
            [
             1,
             "#276419"
            ]
           ],
           "sequential": [
            [
             0,
             "#0d0887"
            ],
            [
             0.1111111111111111,
             "#46039f"
            ],
            [
             0.2222222222222222,
             "#7201a8"
            ],
            [
             0.3333333333333333,
             "#9c179e"
            ],
            [
             0.4444444444444444,
             "#bd3786"
            ],
            [
             0.5555555555555556,
             "#d8576b"
            ],
            [
             0.6666666666666666,
             "#ed7953"
            ],
            [
             0.7777777777777778,
             "#fb9f3a"
            ],
            [
             0.8888888888888888,
             "#fdca26"
            ],
            [
             1,
             "#f0f921"
            ]
           ],
           "sequentialminus": [
            [
             0,
             "#0d0887"
            ],
            [
             0.1111111111111111,
             "#46039f"
            ],
            [
             0.2222222222222222,
             "#7201a8"
            ],
            [
             0.3333333333333333,
             "#9c179e"
            ],
            [
             0.4444444444444444,
             "#bd3786"
            ],
            [
             0.5555555555555556,
             "#d8576b"
            ],
            [
             0.6666666666666666,
             "#ed7953"
            ],
            [
             0.7777777777777778,
             "#fb9f3a"
            ],
            [
             0.8888888888888888,
             "#fdca26"
            ],
            [
             1,
             "#f0f921"
            ]
           ]
          },
          "colorway": [
           "#636efa",
           "#EF553B",
           "#00cc96",
           "#ab63fa",
           "#FFA15A",
           "#19d3f3",
           "#FF6692",
           "#B6E880",
           "#FF97FF",
           "#FECB52"
          ],
          "font": {
           "color": "#2a3f5f"
          },
          "geo": {
           "bgcolor": "white",
           "lakecolor": "white",
           "landcolor": "#E5ECF6",
           "showlakes": true,
           "showland": true,
           "subunitcolor": "white"
          },
          "hoverlabel": {
           "align": "left"
          },
          "hovermode": "closest",
          "mapbox": {
           "style": "light"
          },
          "paper_bgcolor": "white",
          "plot_bgcolor": "#E5ECF6",
          "polar": {
           "angularaxis": {
            "gridcolor": "white",
            "linecolor": "white",
            "ticks": ""
           },
           "bgcolor": "#E5ECF6",
           "radialaxis": {
            "gridcolor": "white",
            "linecolor": "white",
            "ticks": ""
           }
          },
          "scene": {
           "xaxis": {
            "backgroundcolor": "#E5ECF6",
            "gridcolor": "white",
            "gridwidth": 2,
            "linecolor": "white",
            "showbackground": true,
            "ticks": "",
            "zerolinecolor": "white"
           },
           "yaxis": {
            "backgroundcolor": "#E5ECF6",
            "gridcolor": "white",
            "gridwidth": 2,
            "linecolor": "white",
            "showbackground": true,
            "ticks": "",
            "zerolinecolor": "white"
           },
           "zaxis": {
            "backgroundcolor": "#E5ECF6",
            "gridcolor": "white",
            "gridwidth": 2,
            "linecolor": "white",
            "showbackground": true,
            "ticks": "",
            "zerolinecolor": "white"
           }
          },
          "shapedefaults": {
           "line": {
            "color": "#2a3f5f"
           }
          },
          "ternary": {
           "aaxis": {
            "gridcolor": "white",
            "linecolor": "white",
            "ticks": ""
           },
           "baxis": {
            "gridcolor": "white",
            "linecolor": "white",
            "ticks": ""
           },
           "bgcolor": "#E5ECF6",
           "caxis": {
            "gridcolor": "white",
            "linecolor": "white",
            "ticks": ""
           }
          },
          "title": {
           "x": 0.05
          },
          "xaxis": {
           "automargin": true,
           "gridcolor": "white",
           "linecolor": "white",
           "ticks": "",
           "title": {
            "standoff": 15
           },
           "zerolinecolor": "white",
           "zerolinewidth": 2
          },
          "yaxis": {
           "automargin": true,
           "gridcolor": "white",
           "linecolor": "white",
           "ticks": "",
           "title": {
            "standoff": 15
           },
           "zerolinecolor": "white",
           "zerolinewidth": 2
          }
         }
        },
        "xaxis": {
         "anchor": "y",
         "domain": [
          0,
          0.45
         ],
         "matches": "x7",
         "showticklabels": false
        },
        "xaxis2": {
         "anchor": "y2",
         "domain": [
          0.55,
          1
         ],
         "matches": "x8",
         "showticklabels": false
        },
        "xaxis3": {
         "anchor": "y3",
         "domain": [
          0,
          0.45
         ],
         "matches": "x7",
         "showticklabels": false
        },
        "xaxis4": {
         "anchor": "y4",
         "domain": [
          0.55,
          1
         ],
         "matches": "x8",
         "showticklabels": false
        },
        "xaxis5": {
         "anchor": "y5",
         "domain": [
          0,
          0.45
         ],
         "matches": "x7",
         "showticklabels": false
        },
        "xaxis6": {
         "anchor": "y6",
         "domain": [
          0.55,
          1
         ],
         "matches": "x8",
         "showticklabels": false
        },
        "xaxis7": {
         "anchor": "y7",
         "domain": [
          0,
          0.45
         ]
        },
        "xaxis8": {
         "anchor": "y8",
         "domain": [
          0.55,
          1
         ]
        },
        "yaxis": {
         "anchor": "x",
         "domain": [
          0.84375,
          1
         ]
        },
        "yaxis2": {
         "anchor": "x2",
         "domain": [
          0.84375,
          1
         ],
         "matches": "y",
         "showticklabels": false
        },
        "yaxis3": {
         "anchor": "x3",
         "domain": [
          0.5625,
          0.71875
         ]
        },
        "yaxis4": {
         "anchor": "x4",
         "domain": [
          0.5625,
          0.71875
         ],
         "matches": "y3",
         "showticklabels": false
        },
        "yaxis5": {
         "anchor": "x5",
         "domain": [
          0.28125,
          0.4375
         ]
        },
        "yaxis6": {
         "anchor": "x6",
         "domain": [
          0.28125,
          0.4375
         ],
         "matches": "y5",
         "showticklabels": false
        },
        "yaxis7": {
         "anchor": "x7",
         "domain": [
          0,
          0.15625
         ]
        },
        "yaxis8": {
         "anchor": "x8",
         "domain": [
          0,
          0.15625
         ],
         "matches": "y7",
         "showticklabels": false
        }
       }
      }
     },
     "metadata": {},
     "output_type": "display_data"
    }
   ],
   "source": [
    "#train_model_country_day(data_country_input, day, n_features, model_type=\"rf\", model_parameters=None)\n",
    "from plotly.subplots import make_subplots\n",
    "def plotDayPrediction(day,n_features,model_type='rf',exclude_features=[\"Price-1\",\"Price-2\"]):\n",
    "        countries = [\"BG\", \"HR\", \"RO\",\"SI\"]\n",
    "        countries_clean=[]\n",
    "        for i,code in enumerate(countries):\n",
    "                try: \n",
    "                        test=load_augumented(code).loc[day]\n",
    "                except: print(\"Date for this day does not exist\") \n",
    "                else: \n",
    "                        if test.shape[0]==24: countries_clean.append(code)\n",
    "        #print(countries_clean)\n",
    "        n = len(countries_clean)\n",
    "        #print(n)\n",
    "        clist = []\n",
    "        [clist.append(country_dict[x]) for x in countries_clean]\n",
    "        fig = make_subplots(rows=n, cols=2,\n",
    "                shared_yaxes=True, shared_xaxes=True,\n",
    "                subplot_titles=clist)\n",
    "\n",
    "        def predOneDayOneCode(code,row,col):\n",
    "                df = load_augumented(code).drop(columns=exclude_features)\n",
    "                #print(df.isnull().values.any())\n",
    "                model, params, selected_features, err, predictions = train_model_country_day(df, day, 12, model_type=\"rf\")\n",
    "                def rolling(dataframe):\n",
    "                        return dataframe.rolling(window=roll_window).mean()\n",
    "                #print(selected_features)\n",
    "                \n",
    "                \n",
    "                df = df.loc[day]\n",
    "\n",
    "                fig.add_trace(go.Scatter(x=df.index, \n",
    "                                        y=df[\"DayAheadPrice\"], \n",
    "                                        name=\"Real price\",\n",
    "                                        mode=\"lines\",\n",
    "                                        line_color=\"blue\",),\n",
    "                                        row=row,col=col)  \n",
    "                \n",
    "                fig.add_trace(go.Scatter(x=predictions.index, \n",
    "                                        y=predictions, \n",
    "                                        name=\"Prediction\",\n",
    "                                        mode=\"lines+markers\",\n",
    "                                        line_color=\"orange\",),\n",
    "                                        row=row,col=col)  #\n",
    "\n",
    "                fig.update_layout(\n",
    "                        #title={'text':'Prediction of Energy Price in %s' % (country_dict[code]),'x':0.5, 'xanchor':'center'},\n",
    "                        showlegend=False)\n",
    "                \n",
    "                #return fig, selected_features, err\n",
    "                return err.rename(country_dict[code])\n",
    "        #figa=[None]*n\n",
    "        #sfa=[None]*n\n",
    "        erra=[None]*n\n",
    "        j=1\n",
    "        k=1\n",
    "        for i,code in enumerate(countries_clean):\n",
    "                print(k,j)\n",
    "                erra[i]=predOneDayOneCode(code,k,j)\n",
    "                if k==j and j==1: j=j+1\n",
    "                elif k==j and j==2: j=j-1\n",
    "                elif j>k: k=k+1\n",
    "        #code = \"SI\"\n",
    "        #figa, sfa, erra=predOneDayOneCode(code,1,1)\n",
    "        #print(\"aaskdjflöaksjdlfkjaskldjfkajdfölaj\")\n",
    "        fig.update_layout(legend=dict(\n",
    "                orientation=\"h\",\n",
    "                entrywidth=120,\n",
    "                yanchor=\"bottom\",\n",
    "                y=1.02,\n",
    "                xanchor=\"right\",\n",
    "                x=1\n",
    "                ))\n",
    "        metr_list=[]\n",
    "        [metr_list.append(x) for x in erra]\n",
    "        table = pd.concat(metr_list, axis=1)\n",
    "        return fig,0,table\n",
    "figa, sfa, table = plotDayPrediction(\"2022-7-13\",12)\n",
    "display(table)\n",
    "figa.show()"
   ]
  },
  {
   "cell_type": "code",
   "execution_count": 3,
   "metadata": {},
   "outputs": [
    {
     "data": {
      "text/plain": [
       "Table([Thead(Tr([Th('Croatia'), Th('Romania'), Th('Slovenia')])), Tbody([Tr([Td(44.56836338577512), Td(78.90727859894089), Td(51.25373401620993)]), Tr([Td(0.16116789862277253), Td(0.26518032536408265), Td(0.18931183488117134)]), Tr([Td(0.01295561084901721), Td(-0.020642612117643462), Td(0.01615197336752432)]), Tr([Td(0.461253242458867), Td(0.413601314145723), Td(0.04456461955132052)])])])"
      ]
     },
     "execution_count": 3,
     "metadata": {},
     "output_type": "execute_result"
    }
   ],
   "source": [
    "def generate_dataframe_table(dataframe, max_rows=10):\n",
    "    return html.Table([\n",
    "        html.Thead(\n",
    "            html.Tr([html.Th(col) for col in dataframe.columns])\n",
    "        ),\n",
    "        html.Tbody([\n",
    "            html.Tr([\n",
    "                html.Td(dataframe.iloc[i][col]) for col in dataframe.columns\n",
    "            ]) for i in range(min(len(dataframe), max_rows))\n",
    "        ])\n",
    "    ])\n",
    "\n",
    "generate_dataframe_table(table)"
   ]
  },
  {
   "cell_type": "code",
   "execution_count": 4,
   "metadata": {},
   "outputs": [
    {
     "data": {
      "text/html": [
       "<div>\n",
       "<style scoped>\n",
       "    .dataframe tbody tr th:only-of-type {\n",
       "        vertical-align: middle;\n",
       "    }\n",
       "\n",
       "    .dataframe tbody tr th {\n",
       "        vertical-align: top;\n",
       "    }\n",
       "\n",
       "    .dataframe thead th {\n",
       "        text-align: right;\n",
       "    }\n",
       "</style>\n",
       "<table border=\"1\" class=\"dataframe\">\n",
       "  <thead>\n",
       "    <tr style=\"text-align: right;\">\n",
       "      <th></th>\n",
       "      <th>Metric</th>\n",
       "      <th>Croatia</th>\n",
       "      <th>Romania</th>\n",
       "      <th>Slovenia</th>\n",
       "    </tr>\n",
       "  </thead>\n",
       "  <tbody>\n",
       "    <tr>\n",
       "      <th>0</th>\n",
       "      <td>Root mean squared error</td>\n",
       "      <td>44.568363</td>\n",
       "      <td>78.907279</td>\n",
       "      <td>51.253734</td>\n",
       "    </tr>\n",
       "    <tr>\n",
       "      <th>1</th>\n",
       "      <td>Coefficient of variation RMSE</td>\n",
       "      <td>0.161168</td>\n",
       "      <td>0.265180</td>\n",
       "      <td>0.189312</td>\n",
       "    </tr>\n",
       "    <tr>\n",
       "      <th>2</th>\n",
       "      <td>Normalized mean bias error</td>\n",
       "      <td>0.012956</td>\n",
       "      <td>-0.020643</td>\n",
       "      <td>0.016152</td>\n",
       "    </tr>\n",
       "    <tr>\n",
       "      <th>3</th>\n",
       "      <td>R2 score</td>\n",
       "      <td>0.461253</td>\n",
       "      <td>0.413601</td>\n",
       "      <td>0.044565</td>\n",
       "    </tr>\n",
       "  </tbody>\n",
       "</table>\n",
       "</div>"
      ],
      "text/plain": [
       "                          Metric    Croatia    Romania   Slovenia\n",
       "0        Root mean squared error  44.568363  78.907279  51.253734\n",
       "1  Coefficient of variation RMSE   0.161168   0.265180   0.189312\n",
       "2     Normalized mean bias error   0.012956  -0.020643   0.016152\n",
       "3                       R2 score   0.461253   0.413601   0.044565"
      ]
     },
     "execution_count": 4,
     "metadata": {},
     "output_type": "execute_result"
    }
   ],
   "source": [
    "table.reset_index(names=[\"Metric\"])"
   ]
  },
  {
   "cell_type": "code",
   "execution_count": null,
   "metadata": {},
   "outputs": [],
   "source": []
  }
 ],
 "metadata": {
  "kernelspec": {
   "display_name": "Python 3",
   "language": "python",
   "name": "python3"
  },
  "language_info": {
   "codemirror_mode": {
    "name": "ipython",
    "version": 3
   },
   "file_extension": ".py",
   "mimetype": "text/x-python",
   "name": "python",
   "nbconvert_exporter": "python",
   "pygments_lexer": "ipython3",
   "version": "3.8.10"
  },
  "orig_nbformat": 4
 },
 "nbformat": 4,
 "nbformat_minor": 2
}
