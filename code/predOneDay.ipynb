{
 "cells": [
  {
   "cell_type": "code",
   "execution_count": 60,
   "metadata": {},
   "outputs": [],
   "source": [
    "from functions import *\n",
    "import pandas as pd\n",
    "from matplotlib import pyplot as plt\n",
    "import numpy as np\n",
    "import pickle\n",
    "import plotly.express as px\n",
    "import plotly.graph_objects as go\n",
    "\n",
    "import dash\n",
    "from dash import html,Input,Output,dcc\n",
    "from dash.dependencies import Input, Output, State\n",
    "import geopandas as gpd\n",
    "from datetime import date\n",
    "country_dict = {\n",
    "\"BG\":\"Bulgaria\",\n",
    "\"GR\":\"Greece\",\n",
    "\"HR\":\"Croatia\",\n",
    "\"RO\":\"Romania\",\n",
    "\"RS\":\"Republic of Serbia\",\n",
    "\"SI\":\"Slovenia\",\n",
    "}\n",
    "path=\"../\"\n",
    "def load_augumented(code):\n",
    "    file = path + 'data/augumented/' + code + '.pkl'\n",
    "    with open(file, 'rb') as f:\n",
    "        df = pickle.load(f)\n",
    "    return df.drop(columns=[\"Load-1\",\"Load-24\"])\n",
    "def day_split(data_country, features, day):\n",
    "    data_country=data_country.dropna()\n",
    "    y = data_country['DayAheadPrice']\n",
    "    x = data_country[features]\n",
    "    x_train, x_test, y_train, y_test = x[x.index<day], x.loc[day], y[y.index<day], y.loc[day]\n",
    "    print(\"AJLKAJLKAJ\")\n",
    "    return x_train, x_test, y_train, y_test\n",
    "def train_model_country_day(data_country_input, day, n_features,model_type=\"rf\", model_parameters=None):\n",
    "    \"\"\"\n",
    "    Train a ML model. This function does the following:\n",
    "        1. rescales the input data\n",
    "        2. train test split\n",
    "        3. feature selection on the training data\n",
    "        4. train the model: either NN or RF\n",
    "    \n",
    "    Parameters:\n",
    "        model_type: 'rf' | 'nn' | 'lr', str\n",
    "            type of the model to train, 'rf' for random forest, 'lr' for linear regression and 'nn' for neural network\n",
    "        data_country: DataFrame\n",
    "            cleaned data for a given country (no Nans etc)\n",
    "        n_features: int\n",
    "            number of best features to select\n",
    "        model_parameters: dict\n",
    "            dictionary with model parameters, which are parameters for either \n",
    "            MLPRegressor or RandomForestRegressor from sklearn\n",
    "    \n",
    "    \n",
    "    Out:\n",
    "        model: object\n",
    "            sklearn model\n",
    "        params: DataFrame\n",
    "            parameters used for rescaling the data; predictions have to be scaled back \n",
    "            for error calculation and out-of-sample new data must be scaled using these params\n",
    "        selected_features: list or Index, not sure\n",
    "            features used in training this model\n",
    "        err: Series\n",
    "            errors for predictions\n",
    "    \"\"\"\n",
    "    data_country = data_country_input.copy()\n",
    "    data_country, params = rescale(data_country)\n",
    "    print(\"h1\")\n",
    "    x_train, x_test, y_train, y_test = day_split(data_country, data_country.columns[1:],day)\n",
    "    print(\"h2\")\n",
    "    selected_features = get_best_features(x_train, n_features)\n",
    "\n",
    "    x_train = x_train[selected_features]\n",
    "    x_test = x_test[selected_features]\n",
    "\n",
    "    if model_type.lower() == 'nn':\n",
    "        if model_parameters == None:\n",
    "            # these parameters worked okay for project 1\n",
    "            model_parameters = {\n",
    "                'hidden_layer_sizes': (16,16,14)\n",
    "            }\n",
    "        model = MLPRegressor(**model_parameters)\n",
    "    elif model_type.lower() == 'lr':\n",
    "       model = linear_model.LinearRegression() \n",
    "    elif model_type.lower() == 'rf':\n",
    "        if model_parameters == None:\n",
    "            # these parameters worked okay for project 1\n",
    "            model_parameters = {\n",
    "                'bootstrap': True,\n",
    "                'min_samples_leaf': 2,\n",
    "                'n_estimators': 10, \n",
    "                'min_samples_split': 3,\n",
    "                'max_features': 10,\n",
    "                'max_depth': 10,\n",
    "                'max_leaf_nodes': None}\n",
    "            \n",
    "        model = RandomForestRegressor(**model_parameters)\n",
    "\n",
    "    model.fit(x_train, y_train)\n",
    "    predictions = model.predict(x_test)\n",
    "\n",
    "    predictions = pd.Series(predictions, index=y_test.index).sort_index()\n",
    "    y_test = y_test.sort_index()\n",
    "\n",
    "\n",
    "    # to calculate errors, we have to rescale the data back using original parameters\n",
    "    predictions = predictions * params.loc['DayAheadPrice', 'Std'] + params.loc['DayAheadPrice', 'Mean']\n",
    "    y_test = y_test * params.loc['DayAheadPrice', 'Std'] + params.loc['DayAheadPrice', 'Mean']\n",
    "    err = get_errors(y_test, predictions)\n",
    "\n",
    "    #display(err)\n",
    "    #plot_predictions(y_test, predictions)\n",
    "    \n",
    "    return model, params, selected_features, err, predictions"
   ]
  },
  {
   "cell_type": "code",
   "execution_count": 80,
   "metadata": {},
   "outputs": [
    {
     "name": "stdout",
     "output_type": "stream",
     "text": [
      "0 BG\n",
      "False\n",
      "1 HR\n",
      "False\n",
      "2 RO\n",
      "False\n",
      "3 SI\n",
      "False\n",
      "['HR', 'RO', 'SI']\n",
      "3\n",
      "False\n",
      "h1\n",
      "AJLKAJLKAJ\n",
      "h2\n",
      "Index(['Month', 'GenFossilGas', 'GenFossilTotal', 'GenOtherRenewable',\n",
      "       'Temperature', 'GenGeothermal', 'GenWaste', 'Price-24', 'GenHydroRiver',\n",
      "       'GenHydroReservoir', 'GenTotal', 'GenFossilHardCoal'],\n",
      "      dtype='object')\n",
      "False\n",
      "h1\n",
      "AJLKAJLKAJ\n",
      "h2\n",
      "Index(['PowerUnavailable', 'Month', 'GenNuclear', 'GenFossilGas',\n",
      "       'GenFossilHardCoal', 'Temperature', 'LoadActual', 'Price-24',\n",
      "       'GenHydroRiver', 'GenFossilTotal', 'GenFossilBrownCoal', 'GenTotal'],\n",
      "      dtype='object')\n",
      "False\n",
      "h1\n",
      "AJLKAJLKAJ\n",
      "h2\n",
      "Index(['Month', 'GenNuclear', 'GenFossilBrownCoal', 'GenFossilTotal',\n",
      "       'GenFossilGas', 'Price-24', 'PowerUnavailable', 'GenHydroRiver',\n",
      "       'Temperature', 'GenTotal', 'ImportTotal', 'ImportAT'],\n",
      "      dtype='object')\n"
     ]
    },
    {
     "data": {
      "application/vnd.plotly.v1+json": {
       "config": {
        "plotlyServerURL": "https://plot.ly"
       },
       "data": [
        {
         "line": {
          "color": "blue"
         },
         "mode": "lines",
         "name": "Real price",
         "type": "scatter",
         "x": [
          "2022-10-04T00:00:00+00:00",
          "2022-10-04T01:00:00+00:00",
          "2022-10-04T02:00:00+00:00",
          "2022-10-04T03:00:00+00:00",
          "2022-10-04T04:00:00+00:00",
          "2022-10-04T05:00:00+00:00",
          "2022-10-04T06:00:00+00:00",
          "2022-10-04T07:00:00+00:00",
          "2022-10-04T08:00:00+00:00",
          "2022-10-04T09:00:00+00:00",
          "2022-10-04T10:00:00+00:00",
          "2022-10-04T11:00:00+00:00",
          "2022-10-04T12:00:00+00:00",
          "2022-10-04T13:00:00+00:00",
          "2022-10-04T14:00:00+00:00",
          "2022-10-04T15:00:00+00:00",
          "2022-10-04T16:00:00+00:00",
          "2022-10-04T17:00:00+00:00",
          "2022-10-04T18:00:00+00:00",
          "2022-10-04T19:00:00+00:00",
          "2022-10-04T20:00:00+00:00",
          "2022-10-04T21:00:00+00:00",
          "2022-10-04T22:00:00+00:00",
          "2022-10-04T23:00:00+00:00"
         ],
         "xaxis": "x",
         "y": [
          163.41,
          169.1,
          187.69,
          196.92,
          329.97,
          427.5,
          497.39,
          335.54,
          274.87,
          230.89,
          259.42,
          225.47,
          290,
          316.04,
          335.45,
          359.09,
          466.58,
          567.52,
          407.91,
          281.77,
          332.38,
          297.35,
          201.76,
          184.44
         ],
         "yaxis": "y"
        },
        {
         "line": {
          "color": "orange"
         },
         "mode": "lines",
         "name": "Prediction",
         "type": "scatter",
         "x": [
          "2022-10-04T00:00:00+00:00",
          "2022-10-04T01:00:00+00:00",
          "2022-10-04T02:00:00+00:00",
          "2022-10-04T03:00:00+00:00",
          "2022-10-04T04:00:00+00:00",
          "2022-10-04T05:00:00+00:00",
          "2022-10-04T06:00:00+00:00",
          "2022-10-04T07:00:00+00:00",
          "2022-10-04T08:00:00+00:00",
          "2022-10-04T09:00:00+00:00",
          "2022-10-04T10:00:00+00:00",
          "2022-10-04T11:00:00+00:00",
          "2022-10-04T12:00:00+00:00",
          "2022-10-04T13:00:00+00:00",
          "2022-10-04T14:00:00+00:00",
          "2022-10-04T15:00:00+00:00",
          "2022-10-04T16:00:00+00:00",
          "2022-10-04T17:00:00+00:00",
          "2022-10-04T18:00:00+00:00",
          "2022-10-04T19:00:00+00:00",
          "2022-10-04T20:00:00+00:00",
          "2022-10-04T21:00:00+00:00",
          "2022-10-04T22:00:00+00:00",
          "2022-10-04T23:00:00+00:00"
         ],
         "xaxis": "x",
         "y": [
          295.9812002126529,
          327.02457521265285,
          311.4789024853801,
          330.9376029904306,
          224.51610215053762,
          390.42165555555556,
          456.3036826340326,
          352.2930625,
          338.5241208333333,
          320.8406030844156,
          306.0241030844156,
          311.70536002886,
          311.70536002886,
          311.70536002886,
          358.6676428571428,
          421.91231580687827,
          415.6023980413105,
          492.61877074592076,
          400.4296004222629,
          371.5975625,
          292.0051041666667,
          252.16265537240537,
          332.7716423001949,
          319.17925367585633
         ],
         "yaxis": "y"
        },
        {
         "line": {
          "color": "blue"
         },
         "mode": "lines",
         "name": "Real price",
         "type": "scatter",
         "x": [
          "2022-10-04T00:00:00+00:00",
          "2022-10-04T01:00:00+00:00",
          "2022-10-04T02:00:00+00:00",
          "2022-10-04T03:00:00+00:00",
          "2022-10-04T04:00:00+00:00",
          "2022-10-04T05:00:00+00:00",
          "2022-10-04T06:00:00+00:00",
          "2022-10-04T07:00:00+00:00",
          "2022-10-04T08:00:00+00:00",
          "2022-10-04T09:00:00+00:00",
          "2022-10-04T10:00:00+00:00",
          "2022-10-04T11:00:00+00:00",
          "2022-10-04T12:00:00+00:00",
          "2022-10-04T13:00:00+00:00",
          "2022-10-04T14:00:00+00:00",
          "2022-10-04T15:00:00+00:00",
          "2022-10-04T16:00:00+00:00",
          "2022-10-04T17:00:00+00:00",
          "2022-10-04T18:00:00+00:00",
          "2022-10-04T19:00:00+00:00",
          "2022-10-04T20:00:00+00:00",
          "2022-10-04T21:00:00+00:00",
          "2022-10-04T22:00:00+00:00",
          "2022-10-04T23:00:00+00:00"
         ],
         "xaxis": "x3",
         "y": [
          153.87,
          169.1,
          187.69,
          196.92,
          329.97,
          427.5,
          497.39,
          331.97,
          271.65,
          228.14,
          250.89,
          202.26,
          269.26,
          311,
          337.91,
          371,
          586.3,
          680.54,
          500,
          323.3,
          309.49,
          252.47,
          181.7,
          142.03
         ],
         "yaxis": "y3"
        },
        {
         "line": {
          "color": "orange"
         },
         "mode": "lines",
         "name": "Prediction",
         "type": "scatter",
         "x": [
          "2022-10-04T00:00:00+00:00",
          "2022-10-04T01:00:00+00:00",
          "2022-10-04T02:00:00+00:00",
          "2022-10-04T03:00:00+00:00",
          "2022-10-04T04:00:00+00:00",
          "2022-10-04T05:00:00+00:00",
          "2022-10-04T06:00:00+00:00",
          "2022-10-04T07:00:00+00:00",
          "2022-10-04T08:00:00+00:00",
          "2022-10-04T09:00:00+00:00",
          "2022-10-04T10:00:00+00:00",
          "2022-10-04T11:00:00+00:00",
          "2022-10-04T12:00:00+00:00",
          "2022-10-04T13:00:00+00:00",
          "2022-10-04T14:00:00+00:00",
          "2022-10-04T15:00:00+00:00",
          "2022-10-04T16:00:00+00:00",
          "2022-10-04T17:00:00+00:00",
          "2022-10-04T18:00:00+00:00",
          "2022-10-04T19:00:00+00:00",
          "2022-10-04T20:00:00+00:00",
          "2022-10-04T21:00:00+00:00",
          "2022-10-04T22:00:00+00:00",
          "2022-10-04T23:00:00+00:00"
         ],
         "xaxis": "x3",
         "y": [
          189.02859013209013,
          189.02859013209013,
          242.38777917462653,
          262.1457331373305,
          319.28192078846837,
          381.79382483947364,
          389.49426314479575,
          321.8008665542328,
          330.5676916666667,
          245.73438765269228,
          289.732212851105,
          286.6275461844383,
          249.41864062888274,
          249.41864062888274,
          274.8640190346798,
          317.89621733408325,
          377.1543986759313,
          495.04373496240606,
          386.6985384291525,
          342.04640975832564,
          289.9744962912455,
          259.3529552524459,
          238.21348718440282,
          227.29892010314248
         ],
         "yaxis": "y3"
        },
        {
         "line": {
          "color": "blue"
         },
         "mode": "lines",
         "name": "Real price",
         "type": "scatter",
         "x": [
          "2022-10-04T00:00:00+00:00",
          "2022-10-04T01:00:00+00:00",
          "2022-10-04T02:00:00+00:00",
          "2022-10-04T03:00:00+00:00",
          "2022-10-04T04:00:00+00:00",
          "2022-10-04T05:00:00+00:00",
          "2022-10-04T06:00:00+00:00",
          "2022-10-04T07:00:00+00:00",
          "2022-10-04T08:00:00+00:00",
          "2022-10-04T09:00:00+00:00",
          "2022-10-04T10:00:00+00:00",
          "2022-10-04T11:00:00+00:00",
          "2022-10-04T12:00:00+00:00",
          "2022-10-04T13:00:00+00:00",
          "2022-10-04T14:00:00+00:00",
          "2022-10-04T15:00:00+00:00",
          "2022-10-04T16:00:00+00:00",
          "2022-10-04T17:00:00+00:00",
          "2022-10-04T18:00:00+00:00",
          "2022-10-04T19:00:00+00:00",
          "2022-10-04T20:00:00+00:00",
          "2022-10-04T21:00:00+00:00",
          "2022-10-04T22:00:00+00:00",
          "2022-10-04T23:00:00+00:00"
         ],
         "xaxis": "x4",
         "y": [
          168.49,
          169.1,
          187.69,
          196.92,
          329.97,
          427.5,
          497.39,
          337.8,
          277.18,
          232.88,
          263.79,
          242.18,
          304.6,
          316.04,
          337.91,
          355.44,
          425.62,
          530.63,
          376.49,
          268.02,
          340.93,
          316.48,
          210,
          210
         ],
         "yaxis": "y4"
        },
        {
         "line": {
          "color": "orange"
         },
         "mode": "lines",
         "name": "Prediction",
         "type": "scatter",
         "x": [
          "2022-10-04T00:00:00+00:00",
          "2022-10-04T01:00:00+00:00",
          "2022-10-04T02:00:00+00:00",
          "2022-10-04T03:00:00+00:00",
          "2022-10-04T04:00:00+00:00",
          "2022-10-04T05:00:00+00:00",
          "2022-10-04T06:00:00+00:00",
          "2022-10-04T07:00:00+00:00",
          "2022-10-04T08:00:00+00:00",
          "2022-10-04T09:00:00+00:00",
          "2022-10-04T10:00:00+00:00",
          "2022-10-04T11:00:00+00:00",
          "2022-10-04T12:00:00+00:00",
          "2022-10-04T13:00:00+00:00",
          "2022-10-04T14:00:00+00:00",
          "2022-10-04T15:00:00+00:00",
          "2022-10-04T16:00:00+00:00",
          "2022-10-04T17:00:00+00:00",
          "2022-10-04T18:00:00+00:00",
          "2022-10-04T19:00:00+00:00",
          "2022-10-04T20:00:00+00:00",
          "2022-10-04T21:00:00+00:00",
          "2022-10-04T22:00:00+00:00",
          "2022-10-04T23:00:00+00:00"
         ],
         "xaxis": "x4",
         "y": [
          168.29557691197692,
          195.86036262626263,
          169.67737691197692,
          136.77137979797982,
          327.6858452380952,
          430.70684234001294,
          468.6292402532108,
          329.0455857142857,
          200.5436667848435,
          191.42751678484353,
          141.93471313131315,
          153.49553131313132,
          171.32191630591632,
          233.82711818181818,
          311.91963484848486,
          405.85913763736266,
          410.77814102564105,
          573.39956,
          375.59747435897435,
          304.7263190476191,
          196.28605238095238,
          157.12410952380952,
          141.90861313131313,
          149.17519797979799
         ],
         "yaxis": "y4"
        }
       ],
       "layout": {
        "annotations": [
         {
          "font": {
           "size": 16
          },
          "showarrow": false,
          "text": "Croatia",
          "x": 0.225,
          "xanchor": "center",
          "xref": "paper",
          "y": 1,
          "yanchor": "bottom",
          "yref": "paper"
         },
         {
          "font": {
           "size": 16
          },
          "showarrow": false,
          "text": "Romania",
          "x": 0.775,
          "xanchor": "center",
          "xref": "paper",
          "y": 1,
          "yanchor": "bottom",
          "yref": "paper"
         },
         {
          "font": {
           "size": 16
          },
          "showarrow": false,
          "text": "Slovenia",
          "x": 0.225,
          "xanchor": "center",
          "xref": "paper",
          "y": 0.6111111111111112,
          "yanchor": "bottom",
          "yref": "paper"
         }
        ],
        "legend": {
         "entrywidth": 120,
         "orientation": "h",
         "x": 1,
         "xanchor": "right",
         "y": 1.02,
         "yanchor": "bottom"
        },
        "showlegend": false,
        "template": {
         "data": {
          "bar": [
           {
            "error_x": {
             "color": "#2a3f5f"
            },
            "error_y": {
             "color": "#2a3f5f"
            },
            "marker": {
             "line": {
              "color": "#E5ECF6",
              "width": 0.5
             },
             "pattern": {
              "fillmode": "overlay",
              "size": 10,
              "solidity": 0.2
             }
            },
            "type": "bar"
           }
          ],
          "barpolar": [
           {
            "marker": {
             "line": {
              "color": "#E5ECF6",
              "width": 0.5
             },
             "pattern": {
              "fillmode": "overlay",
              "size": 10,
              "solidity": 0.2
             }
            },
            "type": "barpolar"
           }
          ],
          "carpet": [
           {
            "aaxis": {
             "endlinecolor": "#2a3f5f",
             "gridcolor": "white",
             "linecolor": "white",
             "minorgridcolor": "white",
             "startlinecolor": "#2a3f5f"
            },
            "baxis": {
             "endlinecolor": "#2a3f5f",
             "gridcolor": "white",
             "linecolor": "white",
             "minorgridcolor": "white",
             "startlinecolor": "#2a3f5f"
            },
            "type": "carpet"
           }
          ],
          "choropleth": [
           {
            "colorbar": {
             "outlinewidth": 0,
             "ticks": ""
            },
            "type": "choropleth"
           }
          ],
          "contour": [
           {
            "colorbar": {
             "outlinewidth": 0,
             "ticks": ""
            },
            "colorscale": [
             [
              0,
              "#0d0887"
             ],
             [
              0.1111111111111111,
              "#46039f"
             ],
             [
              0.2222222222222222,
              "#7201a8"
             ],
             [
              0.3333333333333333,
              "#9c179e"
             ],
             [
              0.4444444444444444,
              "#bd3786"
             ],
             [
              0.5555555555555556,
              "#d8576b"
             ],
             [
              0.6666666666666666,
              "#ed7953"
             ],
             [
              0.7777777777777778,
              "#fb9f3a"
             ],
             [
              0.8888888888888888,
              "#fdca26"
             ],
             [
              1,
              "#f0f921"
             ]
            ],
            "type": "contour"
           }
          ],
          "contourcarpet": [
           {
            "colorbar": {
             "outlinewidth": 0,
             "ticks": ""
            },
            "type": "contourcarpet"
           }
          ],
          "heatmap": [
           {
            "colorbar": {
             "outlinewidth": 0,
             "ticks": ""
            },
            "colorscale": [
             [
              0,
              "#0d0887"
             ],
             [
              0.1111111111111111,
              "#46039f"
             ],
             [
              0.2222222222222222,
              "#7201a8"
             ],
             [
              0.3333333333333333,
              "#9c179e"
             ],
             [
              0.4444444444444444,
              "#bd3786"
             ],
             [
              0.5555555555555556,
              "#d8576b"
             ],
             [
              0.6666666666666666,
              "#ed7953"
             ],
             [
              0.7777777777777778,
              "#fb9f3a"
             ],
             [
              0.8888888888888888,
              "#fdca26"
             ],
             [
              1,
              "#f0f921"
             ]
            ],
            "type": "heatmap"
           }
          ],
          "heatmapgl": [
           {
            "colorbar": {
             "outlinewidth": 0,
             "ticks": ""
            },
            "colorscale": [
             [
              0,
              "#0d0887"
             ],
             [
              0.1111111111111111,
              "#46039f"
             ],
             [
              0.2222222222222222,
              "#7201a8"
             ],
             [
              0.3333333333333333,
              "#9c179e"
             ],
             [
              0.4444444444444444,
              "#bd3786"
             ],
             [
              0.5555555555555556,
              "#d8576b"
             ],
             [
              0.6666666666666666,
              "#ed7953"
             ],
             [
              0.7777777777777778,
              "#fb9f3a"
             ],
             [
              0.8888888888888888,
              "#fdca26"
             ],
             [
              1,
              "#f0f921"
             ]
            ],
            "type": "heatmapgl"
           }
          ],
          "histogram": [
           {
            "marker": {
             "pattern": {
              "fillmode": "overlay",
              "size": 10,
              "solidity": 0.2
             }
            },
            "type": "histogram"
           }
          ],
          "histogram2d": [
           {
            "colorbar": {
             "outlinewidth": 0,
             "ticks": ""
            },
            "colorscale": [
             [
              0,
              "#0d0887"
             ],
             [
              0.1111111111111111,
              "#46039f"
             ],
             [
              0.2222222222222222,
              "#7201a8"
             ],
             [
              0.3333333333333333,
              "#9c179e"
             ],
             [
              0.4444444444444444,
              "#bd3786"
             ],
             [
              0.5555555555555556,
              "#d8576b"
             ],
             [
              0.6666666666666666,
              "#ed7953"
             ],
             [
              0.7777777777777778,
              "#fb9f3a"
             ],
             [
              0.8888888888888888,
              "#fdca26"
             ],
             [
              1,
              "#f0f921"
             ]
            ],
            "type": "histogram2d"
           }
          ],
          "histogram2dcontour": [
           {
            "colorbar": {
             "outlinewidth": 0,
             "ticks": ""
            },
            "colorscale": [
             [
              0,
              "#0d0887"
             ],
             [
              0.1111111111111111,
              "#46039f"
             ],
             [
              0.2222222222222222,
              "#7201a8"
             ],
             [
              0.3333333333333333,
              "#9c179e"
             ],
             [
              0.4444444444444444,
              "#bd3786"
             ],
             [
              0.5555555555555556,
              "#d8576b"
             ],
             [
              0.6666666666666666,
              "#ed7953"
             ],
             [
              0.7777777777777778,
              "#fb9f3a"
             ],
             [
              0.8888888888888888,
              "#fdca26"
             ],
             [
              1,
              "#f0f921"
             ]
            ],
            "type": "histogram2dcontour"
           }
          ],
          "mesh3d": [
           {
            "colorbar": {
             "outlinewidth": 0,
             "ticks": ""
            },
            "type": "mesh3d"
           }
          ],
          "parcoords": [
           {
            "line": {
             "colorbar": {
              "outlinewidth": 0,
              "ticks": ""
             }
            },
            "type": "parcoords"
           }
          ],
          "pie": [
           {
            "automargin": true,
            "type": "pie"
           }
          ],
          "scatter": [
           {
            "fillpattern": {
             "fillmode": "overlay",
             "size": 10,
             "solidity": 0.2
            },
            "type": "scatter"
           }
          ],
          "scatter3d": [
           {
            "line": {
             "colorbar": {
              "outlinewidth": 0,
              "ticks": ""
             }
            },
            "marker": {
             "colorbar": {
              "outlinewidth": 0,
              "ticks": ""
             }
            },
            "type": "scatter3d"
           }
          ],
          "scattercarpet": [
           {
            "marker": {
             "colorbar": {
              "outlinewidth": 0,
              "ticks": ""
             }
            },
            "type": "scattercarpet"
           }
          ],
          "scattergeo": [
           {
            "marker": {
             "colorbar": {
              "outlinewidth": 0,
              "ticks": ""
             }
            },
            "type": "scattergeo"
           }
          ],
          "scattergl": [
           {
            "marker": {
             "colorbar": {
              "outlinewidth": 0,
              "ticks": ""
             }
            },
            "type": "scattergl"
           }
          ],
          "scattermapbox": [
           {
            "marker": {
             "colorbar": {
              "outlinewidth": 0,
              "ticks": ""
             }
            },
            "type": "scattermapbox"
           }
          ],
          "scatterpolar": [
           {
            "marker": {
             "colorbar": {
              "outlinewidth": 0,
              "ticks": ""
             }
            },
            "type": "scatterpolar"
           }
          ],
          "scatterpolargl": [
           {
            "marker": {
             "colorbar": {
              "outlinewidth": 0,
              "ticks": ""
             }
            },
            "type": "scatterpolargl"
           }
          ],
          "scatterternary": [
           {
            "marker": {
             "colorbar": {
              "outlinewidth": 0,
              "ticks": ""
             }
            },
            "type": "scatterternary"
           }
          ],
          "surface": [
           {
            "colorbar": {
             "outlinewidth": 0,
             "ticks": ""
            },
            "colorscale": [
             [
              0,
              "#0d0887"
             ],
             [
              0.1111111111111111,
              "#46039f"
             ],
             [
              0.2222222222222222,
              "#7201a8"
             ],
             [
              0.3333333333333333,
              "#9c179e"
             ],
             [
              0.4444444444444444,
              "#bd3786"
             ],
             [
              0.5555555555555556,
              "#d8576b"
             ],
             [
              0.6666666666666666,
              "#ed7953"
             ],
             [
              0.7777777777777778,
              "#fb9f3a"
             ],
             [
              0.8888888888888888,
              "#fdca26"
             ],
             [
              1,
              "#f0f921"
             ]
            ],
            "type": "surface"
           }
          ],
          "table": [
           {
            "cells": {
             "fill": {
              "color": "#EBF0F8"
             },
             "line": {
              "color": "white"
             }
            },
            "header": {
             "fill": {
              "color": "#C8D4E3"
             },
             "line": {
              "color": "white"
             }
            },
            "type": "table"
           }
          ]
         },
         "layout": {
          "annotationdefaults": {
           "arrowcolor": "#2a3f5f",
           "arrowhead": 0,
           "arrowwidth": 1
          },
          "autotypenumbers": "strict",
          "coloraxis": {
           "colorbar": {
            "outlinewidth": 0,
            "ticks": ""
           }
          },
          "colorscale": {
           "diverging": [
            [
             0,
             "#8e0152"
            ],
            [
             0.1,
             "#c51b7d"
            ],
            [
             0.2,
             "#de77ae"
            ],
            [
             0.3,
             "#f1b6da"
            ],
            [
             0.4,
             "#fde0ef"
            ],
            [
             0.5,
             "#f7f7f7"
            ],
            [
             0.6,
             "#e6f5d0"
            ],
            [
             0.7,
             "#b8e186"
            ],
            [
             0.8,
             "#7fbc41"
            ],
            [
             0.9,
             "#4d9221"
            ],
            [
             1,
             "#276419"
            ]
           ],
           "sequential": [
            [
             0,
             "#0d0887"
            ],
            [
             0.1111111111111111,
             "#46039f"
            ],
            [
             0.2222222222222222,
             "#7201a8"
            ],
            [
             0.3333333333333333,
             "#9c179e"
            ],
            [
             0.4444444444444444,
             "#bd3786"
            ],
            [
             0.5555555555555556,
             "#d8576b"
            ],
            [
             0.6666666666666666,
             "#ed7953"
            ],
            [
             0.7777777777777778,
             "#fb9f3a"
            ],
            [
             0.8888888888888888,
             "#fdca26"
            ],
            [
             1,
             "#f0f921"
            ]
           ],
           "sequentialminus": [
            [
             0,
             "#0d0887"
            ],
            [
             0.1111111111111111,
             "#46039f"
            ],
            [
             0.2222222222222222,
             "#7201a8"
            ],
            [
             0.3333333333333333,
             "#9c179e"
            ],
            [
             0.4444444444444444,
             "#bd3786"
            ],
            [
             0.5555555555555556,
             "#d8576b"
            ],
            [
             0.6666666666666666,
             "#ed7953"
            ],
            [
             0.7777777777777778,
             "#fb9f3a"
            ],
            [
             0.8888888888888888,
             "#fdca26"
            ],
            [
             1,
             "#f0f921"
            ]
           ]
          },
          "colorway": [
           "#636efa",
           "#EF553B",
           "#00cc96",
           "#ab63fa",
           "#FFA15A",
           "#19d3f3",
           "#FF6692",
           "#B6E880",
           "#FF97FF",
           "#FECB52"
          ],
          "font": {
           "color": "#2a3f5f"
          },
          "geo": {
           "bgcolor": "white",
           "lakecolor": "white",
           "landcolor": "#E5ECF6",
           "showlakes": true,
           "showland": true,
           "subunitcolor": "white"
          },
          "hoverlabel": {
           "align": "left"
          },
          "hovermode": "closest",
          "mapbox": {
           "style": "light"
          },
          "paper_bgcolor": "white",
          "plot_bgcolor": "#E5ECF6",
          "polar": {
           "angularaxis": {
            "gridcolor": "white",
            "linecolor": "white",
            "ticks": ""
           },
           "bgcolor": "#E5ECF6",
           "radialaxis": {
            "gridcolor": "white",
            "linecolor": "white",
            "ticks": ""
           }
          },
          "scene": {
           "xaxis": {
            "backgroundcolor": "#E5ECF6",
            "gridcolor": "white",
            "gridwidth": 2,
            "linecolor": "white",
            "showbackground": true,
            "ticks": "",
            "zerolinecolor": "white"
           },
           "yaxis": {
            "backgroundcolor": "#E5ECF6",
            "gridcolor": "white",
            "gridwidth": 2,
            "linecolor": "white",
            "showbackground": true,
            "ticks": "",
            "zerolinecolor": "white"
           },
           "zaxis": {
            "backgroundcolor": "#E5ECF6",
            "gridcolor": "white",
            "gridwidth": 2,
            "linecolor": "white",
            "showbackground": true,
            "ticks": "",
            "zerolinecolor": "white"
           }
          },
          "shapedefaults": {
           "line": {
            "color": "#2a3f5f"
           }
          },
          "ternary": {
           "aaxis": {
            "gridcolor": "white",
            "linecolor": "white",
            "ticks": ""
           },
           "baxis": {
            "gridcolor": "white",
            "linecolor": "white",
            "ticks": ""
           },
           "bgcolor": "#E5ECF6",
           "caxis": {
            "gridcolor": "white",
            "linecolor": "white",
            "ticks": ""
           }
          },
          "title": {
           "x": 0.05
          },
          "xaxis": {
           "automargin": true,
           "gridcolor": "white",
           "linecolor": "white",
           "ticks": "",
           "title": {
            "standoff": 15
           },
           "zerolinecolor": "white",
           "zerolinewidth": 2
          },
          "yaxis": {
           "automargin": true,
           "gridcolor": "white",
           "linecolor": "white",
           "ticks": "",
           "title": {
            "standoff": 15
           },
           "zerolinecolor": "white",
           "zerolinewidth": 2
          }
         }
        },
        "xaxis": {
         "anchor": "y",
         "domain": [
          0,
          0.45
         ]
        },
        "xaxis2": {
         "anchor": "y2",
         "domain": [
          0.55,
          1
         ]
        },
        "xaxis3": {
         "anchor": "y3",
         "domain": [
          0,
          0.45
         ]
        },
        "xaxis4": {
         "anchor": "y4",
         "domain": [
          0.55,
          1
         ]
        },
        "xaxis5": {
         "anchor": "y5",
         "domain": [
          0,
          0.45
         ]
        },
        "xaxis6": {
         "anchor": "y6",
         "domain": [
          0.55,
          1
         ]
        },
        "yaxis": {
         "anchor": "x",
         "domain": [
          0.7777777777777778,
          1
         ]
        },
        "yaxis2": {
         "anchor": "x2",
         "domain": [
          0.7777777777777778,
          1
         ]
        },
        "yaxis3": {
         "anchor": "x3",
         "domain": [
          0.3888888888888889,
          0.6111111111111112
         ]
        },
        "yaxis4": {
         "anchor": "x4",
         "domain": [
          0.3888888888888889,
          0.6111111111111112
         ]
        },
        "yaxis5": {
         "anchor": "x5",
         "domain": [
          0,
          0.22222222222222224
         ]
        },
        "yaxis6": {
         "anchor": "x6",
         "domain": [
          0,
          0.22222222222222224
         ]
        }
       }
      }
     },
     "metadata": {},
     "output_type": "display_data"
    }
   ],
   "source": [
    "#train_model_country_day(data_country_input, day, n_features, model_type=\"rf\", model_parameters=None)\n",
    "from plotly.subplots import make_subplots\n",
    "def plotDayPrediction(day,n_features,model_type='rf',exclude_features=[\"Price-1\",\"Price-2\"]):\n",
    "        countries = [\"BG\", \"HR\", \"RO\",\"SI\"]\n",
    "        countries_clean=[]\n",
    "        for i,code in enumerate(countries):\n",
    "                print(i,code)\n",
    "                try: \n",
    "                        test=load_augumented(code).loc[day]\n",
    "                        print(test.isnull().values.any())\n",
    "                except: print(\"Date for this day does not exist\") \n",
    "                else: \n",
    "                        if test.shape[0]==24: countries_clean.append(code)\n",
    "        print(countries_clean)\n",
    "        n = len(countries_clean)\n",
    "        print(n)\n",
    "        clist = []\n",
    "        [clist.append(country_dict[x]) for x in countries_clean]\n",
    "        fig = make_subplots(rows=n, cols=2,\n",
    "                subplot_titles=clist)\n",
    "\n",
    "        def predOneDayOneCode(code,row,col):\n",
    "                df = load_augumented(code).drop(columns=exclude_features)\n",
    "                print(df.isnull().values.any())\n",
    "                model, params, selected_features, err, predictions = train_model_country_day(df, day, 12, model_type=\"rf\")\n",
    "                def rolling(dataframe):\n",
    "                        return dataframe.rolling(window=roll_window).mean()\n",
    "                print(selected_features)\n",
    "                \n",
    "                \n",
    "                df = df.loc[day]\n",
    "\n",
    "                fig.add_trace(go.Scatter(x=df.index, \n",
    "                                        y=df[\"DayAheadPrice\"], \n",
    "                                        name=\"Real price\",\n",
    "                                        mode=\"lines\",\n",
    "                                        line_color=\"blue\",),\n",
    "                                        row=row,col=col)  \n",
    "                \n",
    "                fig.add_trace(go.Scatter(x=predictions.index, \n",
    "                                        y=predictions, \n",
    "                                        name=\"Prediction\",\n",
    "                                        mode=\"lines\",\n",
    "                                        line_color=\"orange\",),\n",
    "                                        row=row,col=col)  #\n",
    "\n",
    "                fig.update_layout(\n",
    "                        #title={'text':'Prediction of Energy Price in %s' % (country_dict[code]),'x':0.5, 'xanchor':'center'},\n",
    "                        showlegend=False)\n",
    "                \n",
    "                #return fig, selected_features, err\n",
    "                return 0\n",
    "        #figa=[None]*n\n",
    "        #sfa=[None]*n\n",
    "        #erra=[None]*n\n",
    "        j=1\n",
    "        k=1\n",
    "        for i,code in enumerate(countries_clean):\n",
    "                predOneDayOneCode(code,k,j)\n",
    "                if k==j: k=k+1\n",
    "                elif k>j: j=j+1\n",
    "        #code = \"SI\"\n",
    "        #figa, sfa, erra=predOneDayOneCode(code,1,1)\n",
    "        #print(\"aaskdjflöaksjdlfkjaskldjfkajdfölaj\")\n",
    "        fig.update_layout(legend=dict(\n",
    "                orientation=\"h\",\n",
    "                entrywidth=120,\n",
    "                yanchor=\"bottom\",\n",
    "                y=1.02,\n",
    "                xanchor=\"right\",\n",
    "                x=1\n",
    "                ))\n",
    "        return fig,0,0\n",
    "figa, sfa, erra = plotDayPrediction(\"2022-10-04\",12)\n",
    "\n",
    "figa.show()"
   ]
  },
  {
   "cell_type": "code",
   "execution_count": 77,
   "metadata": {},
   "outputs": [
    {
     "data": {
      "application/vnd.plotly.v1+json": {
       "config": {
        "plotlyServerURL": "https://plot.ly"
       },
       "data": [
        {
         "line": {
          "color": "blue"
         },
         "mode": "lines",
         "name": "Real price",
         "type": "scatter",
         "x": [
          "2022-10-04T00:00:00+00:00",
          "2022-10-04T01:00:00+00:00",
          "2022-10-04T02:00:00+00:00",
          "2022-10-04T03:00:00+00:00",
          "2022-10-04T04:00:00+00:00",
          "2022-10-04T05:00:00+00:00",
          "2022-10-04T06:00:00+00:00",
          "2022-10-04T07:00:00+00:00",
          "2022-10-04T08:00:00+00:00",
          "2022-10-04T09:00:00+00:00",
          "2022-10-04T10:00:00+00:00",
          "2022-10-04T11:00:00+00:00",
          "2022-10-04T12:00:00+00:00",
          "2022-10-04T13:00:00+00:00",
          "2022-10-04T14:00:00+00:00",
          "2022-10-04T15:00:00+00:00",
          "2022-10-04T16:00:00+00:00",
          "2022-10-04T17:00:00+00:00",
          "2022-10-04T18:00:00+00:00",
          "2022-10-04T19:00:00+00:00",
          "2022-10-04T20:00:00+00:00",
          "2022-10-04T21:00:00+00:00",
          "2022-10-04T22:00:00+00:00",
          "2022-10-04T23:00:00+00:00"
         ],
         "xaxis": "x",
         "y": [
          163.41,
          169.1,
          187.69,
          196.92,
          329.97,
          427.5,
          497.39,
          335.54,
          274.87,
          230.89,
          259.42,
          225.47,
          290,
          316.04,
          335.45,
          359.09,
          466.58,
          567.52,
          407.91,
          281.77,
          332.38,
          297.35,
          201.76,
          184.44
         ],
         "yaxis": "y"
        },
        {
         "line": {
          "color": "orange"
         },
         "mode": "lines",
         "name": "Prediction",
         "type": "scatter",
         "x": [
          "2022-10-04T00:00:00+00:00",
          "2022-10-04T01:00:00+00:00",
          "2022-10-04T02:00:00+00:00",
          "2022-10-04T03:00:00+00:00",
          "2022-10-04T04:00:00+00:00",
          "2022-10-04T05:00:00+00:00",
          "2022-10-04T06:00:00+00:00",
          "2022-10-04T07:00:00+00:00",
          "2022-10-04T08:00:00+00:00",
          "2022-10-04T09:00:00+00:00",
          "2022-10-04T10:00:00+00:00",
          "2022-10-04T11:00:00+00:00",
          "2022-10-04T12:00:00+00:00",
          "2022-10-04T13:00:00+00:00",
          "2022-10-04T14:00:00+00:00",
          "2022-10-04T15:00:00+00:00",
          "2022-10-04T16:00:00+00:00",
          "2022-10-04T17:00:00+00:00",
          "2022-10-04T18:00:00+00:00",
          "2022-10-04T19:00:00+00:00",
          "2022-10-04T20:00:00+00:00",
          "2022-10-04T21:00:00+00:00",
          "2022-10-04T22:00:00+00:00",
          "2022-10-04T23:00:00+00:00"
         ],
         "xaxis": "x",
         "y": [
          324.78822348484846,
          324.78822348484846,
          324.78822348484846,
          246.526595,
          213.09625521854574,
          416.5878709723702,
          427.4048204438699,
          275.9540107994842,
          343.50636706349206,
          326.48601230158727,
          345.04440119047615,
          338.7449011904762,
          338.7449011904762,
          345.04440119047615,
          365.27693452380953,
          328.2369138297872,
          351.5926113458529,
          505.52618202992915,
          378.5662795112782,
          321.4220501934236,
          247.31915829187398,
          265.3479990566647,
          305.9935484848485,
          245.28440681818182
         ],
         "yaxis": "y"
        },
        {
         "line": {
          "color": "blue"
         },
         "mode": "lines",
         "name": "Real price",
         "type": "scatter",
         "x": [
          "2022-10-04T00:00:00+00:00",
          "2022-10-04T01:00:00+00:00",
          "2022-10-04T02:00:00+00:00",
          "2022-10-04T03:00:00+00:00",
          "2022-10-04T04:00:00+00:00",
          "2022-10-04T05:00:00+00:00",
          "2022-10-04T06:00:00+00:00",
          "2022-10-04T07:00:00+00:00",
          "2022-10-04T08:00:00+00:00",
          "2022-10-04T09:00:00+00:00",
          "2022-10-04T10:00:00+00:00",
          "2022-10-04T11:00:00+00:00",
          "2022-10-04T12:00:00+00:00",
          "2022-10-04T13:00:00+00:00",
          "2022-10-04T14:00:00+00:00",
          "2022-10-04T15:00:00+00:00",
          "2022-10-04T16:00:00+00:00",
          "2022-10-04T17:00:00+00:00",
          "2022-10-04T18:00:00+00:00",
          "2022-10-04T19:00:00+00:00",
          "2022-10-04T20:00:00+00:00",
          "2022-10-04T21:00:00+00:00",
          "2022-10-04T22:00:00+00:00",
          "2022-10-04T23:00:00+00:00"
         ],
         "xaxis": "x2",
         "y": [
          153.87,
          169.1,
          187.69,
          196.92,
          329.97,
          427.5,
          497.39,
          331.97,
          271.65,
          228.14,
          250.89,
          202.26,
          269.26,
          311,
          337.91,
          371,
          586.3,
          680.54,
          500,
          323.3,
          309.49,
          252.47,
          181.7,
          142.03
         ],
         "yaxis": "y2"
        },
        {
         "line": {
          "color": "orange"
         },
         "mode": "lines",
         "name": "Prediction",
         "type": "scatter",
         "x": [
          "2022-10-04T00:00:00+00:00",
          "2022-10-04T01:00:00+00:00",
          "2022-10-04T02:00:00+00:00",
          "2022-10-04T03:00:00+00:00",
          "2022-10-04T04:00:00+00:00",
          "2022-10-04T05:00:00+00:00",
          "2022-10-04T06:00:00+00:00",
          "2022-10-04T07:00:00+00:00",
          "2022-10-04T08:00:00+00:00",
          "2022-10-04T09:00:00+00:00",
          "2022-10-04T10:00:00+00:00",
          "2022-10-04T11:00:00+00:00",
          "2022-10-04T12:00:00+00:00",
          "2022-10-04T13:00:00+00:00",
          "2022-10-04T14:00:00+00:00",
          "2022-10-04T15:00:00+00:00",
          "2022-10-04T16:00:00+00:00",
          "2022-10-04T17:00:00+00:00",
          "2022-10-04T18:00:00+00:00",
          "2022-10-04T19:00:00+00:00",
          "2022-10-04T20:00:00+00:00",
          "2022-10-04T21:00:00+00:00",
          "2022-10-04T22:00:00+00:00",
          "2022-10-04T23:00:00+00:00"
         ],
         "xaxis": "x2",
         "y": [
          206.79212103244652,
          206.79212103244652,
          210.8916231794472,
          231.8347120683361,
          296.62184274438897,
          379.20349904262514,
          396.9175411478883,
          330.12435025639115,
          345.73528062015504,
          290.2384196073182,
          321.1747410358896,
          295.0934926719917,
          239.56463641634582,
          255.42647278390672,
          249.0889727839067,
          288.6474917115564,
          347.3534378859926,
          534.8966101484666,
          381.9101419883813,
          315.6457970796053,
          270.8707611600247,
          302.96122253467155,
          230.40180478510334,
          241.06702370044727
         ],
         "yaxis": "y2"
        },
        {
         "line": {
          "color": "blue"
         },
         "mode": "lines",
         "name": "Real price",
         "type": "scatter",
         "x": [
          "2022-10-04T00:00:00+00:00",
          "2022-10-04T01:00:00+00:00",
          "2022-10-04T02:00:00+00:00",
          "2022-10-04T03:00:00+00:00",
          "2022-10-04T04:00:00+00:00",
          "2022-10-04T05:00:00+00:00",
          "2022-10-04T06:00:00+00:00",
          "2022-10-04T07:00:00+00:00",
          "2022-10-04T08:00:00+00:00",
          "2022-10-04T09:00:00+00:00",
          "2022-10-04T10:00:00+00:00",
          "2022-10-04T11:00:00+00:00",
          "2022-10-04T12:00:00+00:00",
          "2022-10-04T13:00:00+00:00",
          "2022-10-04T14:00:00+00:00",
          "2022-10-04T15:00:00+00:00",
          "2022-10-04T16:00:00+00:00",
          "2022-10-04T17:00:00+00:00",
          "2022-10-04T18:00:00+00:00",
          "2022-10-04T19:00:00+00:00",
          "2022-10-04T20:00:00+00:00",
          "2022-10-04T21:00:00+00:00",
          "2022-10-04T22:00:00+00:00",
          "2022-10-04T23:00:00+00:00"
         ],
         "xaxis": "x3",
         "y": [
          168.49,
          169.1,
          187.69,
          196.92,
          329.97,
          427.5,
          497.39,
          337.8,
          277.18,
          232.88,
          263.79,
          242.18,
          304.6,
          316.04,
          337.91,
          355.44,
          425.62,
          530.63,
          376.49,
          268.02,
          340.93,
          316.48,
          210,
          210
         ],
         "yaxis": "y3"
        },
        {
         "line": {
          "color": "orange"
         },
         "mode": "lines",
         "name": "Prediction",
         "type": "scatter",
         "x": [
          "2022-10-04T00:00:00+00:00",
          "2022-10-04T01:00:00+00:00",
          "2022-10-04T02:00:00+00:00",
          "2022-10-04T03:00:00+00:00",
          "2022-10-04T04:00:00+00:00",
          "2022-10-04T05:00:00+00:00",
          "2022-10-04T06:00:00+00:00",
          "2022-10-04T07:00:00+00:00",
          "2022-10-04T08:00:00+00:00",
          "2022-10-04T09:00:00+00:00",
          "2022-10-04T10:00:00+00:00",
          "2022-10-04T11:00:00+00:00",
          "2022-10-04T12:00:00+00:00",
          "2022-10-04T13:00:00+00:00",
          "2022-10-04T14:00:00+00:00",
          "2022-10-04T15:00:00+00:00",
          "2022-10-04T16:00:00+00:00",
          "2022-10-04T17:00:00+00:00",
          "2022-10-04T18:00:00+00:00",
          "2022-10-04T19:00:00+00:00",
          "2022-10-04T20:00:00+00:00",
          "2022-10-04T21:00:00+00:00",
          "2022-10-04T22:00:00+00:00",
          "2022-10-04T23:00:00+00:00"
         ],
         "xaxis": "x3",
         "y": [
          165.14959935064934,
          166.25409935064934,
          165.14959935064934,
          154.35165634920634,
          273.4608,
          473.12734784688996,
          504.0091259677727,
          250.7953976190476,
          228.69588001792116,
          209.30778795442907,
          174.18123015873016,
          167.84687301587303,
          166.08479126984128,
          220.82831666666667,
          288.7155,
          396.01781538461535,
          393.60239572649573,
          581.4861351479723,
          384.95717677224735,
          311.93724761904764,
          252.02773809523808,
          217.02208174603174,
          167.5538134920635,
          152.77359682539685
         ],
         "yaxis": "y3"
        }
       ],
       "layout": {
        "annotations": [
         {
          "font": {
           "size": 16
          },
          "showarrow": false,
          "text": "Croatia",
          "x": 0.5,
          "xanchor": "center",
          "xref": "paper",
          "y": 1,
          "yanchor": "bottom",
          "yref": "paper"
         },
         {
          "font": {
           "size": 16
          },
          "showarrow": false,
          "text": "Romania",
          "x": 0.5,
          "xanchor": "center",
          "xref": "paper",
          "y": 0.6111111111111112,
          "yanchor": "bottom",
          "yref": "paper"
         },
         {
          "font": {
           "size": 16
          },
          "showarrow": false,
          "text": "Slovenia",
          "x": 0.5,
          "xanchor": "center",
          "xref": "paper",
          "y": 0.22222222222222224,
          "yanchor": "bottom",
          "yref": "paper"
         }
        ],
        "height": 600,
        "legend": {
         "entrywidth": 120,
         "orientation": "h",
         "x": 1,
         "xanchor": "right",
         "y": 1.02,
         "yanchor": "bottom"
        },
        "showlegend": false,
        "template": {
         "data": {
          "bar": [
           {
            "error_x": {
             "color": "#2a3f5f"
            },
            "error_y": {
             "color": "#2a3f5f"
            },
            "marker": {
             "line": {
              "color": "#E5ECF6",
              "width": 0.5
             },
             "pattern": {
              "fillmode": "overlay",
              "size": 10,
              "solidity": 0.2
             }
            },
            "type": "bar"
           }
          ],
          "barpolar": [
           {
            "marker": {
             "line": {
              "color": "#E5ECF6",
              "width": 0.5
             },
             "pattern": {
              "fillmode": "overlay",
              "size": 10,
              "solidity": 0.2
             }
            },
            "type": "barpolar"
           }
          ],
          "carpet": [
           {
            "aaxis": {
             "endlinecolor": "#2a3f5f",
             "gridcolor": "white",
             "linecolor": "white",
             "minorgridcolor": "white",
             "startlinecolor": "#2a3f5f"
            },
            "baxis": {
             "endlinecolor": "#2a3f5f",
             "gridcolor": "white",
             "linecolor": "white",
             "minorgridcolor": "white",
             "startlinecolor": "#2a3f5f"
            },
            "type": "carpet"
           }
          ],
          "choropleth": [
           {
            "colorbar": {
             "outlinewidth": 0,
             "ticks": ""
            },
            "type": "choropleth"
           }
          ],
          "contour": [
           {
            "colorbar": {
             "outlinewidth": 0,
             "ticks": ""
            },
            "colorscale": [
             [
              0,
              "#0d0887"
             ],
             [
              0.1111111111111111,
              "#46039f"
             ],
             [
              0.2222222222222222,
              "#7201a8"
             ],
             [
              0.3333333333333333,
              "#9c179e"
             ],
             [
              0.4444444444444444,
              "#bd3786"
             ],
             [
              0.5555555555555556,
              "#d8576b"
             ],
             [
              0.6666666666666666,
              "#ed7953"
             ],
             [
              0.7777777777777778,
              "#fb9f3a"
             ],
             [
              0.8888888888888888,
              "#fdca26"
             ],
             [
              1,
              "#f0f921"
             ]
            ],
            "type": "contour"
           }
          ],
          "contourcarpet": [
           {
            "colorbar": {
             "outlinewidth": 0,
             "ticks": ""
            },
            "type": "contourcarpet"
           }
          ],
          "heatmap": [
           {
            "colorbar": {
             "outlinewidth": 0,
             "ticks": ""
            },
            "colorscale": [
             [
              0,
              "#0d0887"
             ],
             [
              0.1111111111111111,
              "#46039f"
             ],
             [
              0.2222222222222222,
              "#7201a8"
             ],
             [
              0.3333333333333333,
              "#9c179e"
             ],
             [
              0.4444444444444444,
              "#bd3786"
             ],
             [
              0.5555555555555556,
              "#d8576b"
             ],
             [
              0.6666666666666666,
              "#ed7953"
             ],
             [
              0.7777777777777778,
              "#fb9f3a"
             ],
             [
              0.8888888888888888,
              "#fdca26"
             ],
             [
              1,
              "#f0f921"
             ]
            ],
            "type": "heatmap"
           }
          ],
          "heatmapgl": [
           {
            "colorbar": {
             "outlinewidth": 0,
             "ticks": ""
            },
            "colorscale": [
             [
              0,
              "#0d0887"
             ],
             [
              0.1111111111111111,
              "#46039f"
             ],
             [
              0.2222222222222222,
              "#7201a8"
             ],
             [
              0.3333333333333333,
              "#9c179e"
             ],
             [
              0.4444444444444444,
              "#bd3786"
             ],
             [
              0.5555555555555556,
              "#d8576b"
             ],
             [
              0.6666666666666666,
              "#ed7953"
             ],
             [
              0.7777777777777778,
              "#fb9f3a"
             ],
             [
              0.8888888888888888,
              "#fdca26"
             ],
             [
              1,
              "#f0f921"
             ]
            ],
            "type": "heatmapgl"
           }
          ],
          "histogram": [
           {
            "marker": {
             "pattern": {
              "fillmode": "overlay",
              "size": 10,
              "solidity": 0.2
             }
            },
            "type": "histogram"
           }
          ],
          "histogram2d": [
           {
            "colorbar": {
             "outlinewidth": 0,
             "ticks": ""
            },
            "colorscale": [
             [
              0,
              "#0d0887"
             ],
             [
              0.1111111111111111,
              "#46039f"
             ],
             [
              0.2222222222222222,
              "#7201a8"
             ],
             [
              0.3333333333333333,
              "#9c179e"
             ],
             [
              0.4444444444444444,
              "#bd3786"
             ],
             [
              0.5555555555555556,
              "#d8576b"
             ],
             [
              0.6666666666666666,
              "#ed7953"
             ],
             [
              0.7777777777777778,
              "#fb9f3a"
             ],
             [
              0.8888888888888888,
              "#fdca26"
             ],
             [
              1,
              "#f0f921"
             ]
            ],
            "type": "histogram2d"
           }
          ],
          "histogram2dcontour": [
           {
            "colorbar": {
             "outlinewidth": 0,
             "ticks": ""
            },
            "colorscale": [
             [
              0,
              "#0d0887"
             ],
             [
              0.1111111111111111,
              "#46039f"
             ],
             [
              0.2222222222222222,
              "#7201a8"
             ],
             [
              0.3333333333333333,
              "#9c179e"
             ],
             [
              0.4444444444444444,
              "#bd3786"
             ],
             [
              0.5555555555555556,
              "#d8576b"
             ],
             [
              0.6666666666666666,
              "#ed7953"
             ],
             [
              0.7777777777777778,
              "#fb9f3a"
             ],
             [
              0.8888888888888888,
              "#fdca26"
             ],
             [
              1,
              "#f0f921"
             ]
            ],
            "type": "histogram2dcontour"
           }
          ],
          "mesh3d": [
           {
            "colorbar": {
             "outlinewidth": 0,
             "ticks": ""
            },
            "type": "mesh3d"
           }
          ],
          "parcoords": [
           {
            "line": {
             "colorbar": {
              "outlinewidth": 0,
              "ticks": ""
             }
            },
            "type": "parcoords"
           }
          ],
          "pie": [
           {
            "automargin": true,
            "type": "pie"
           }
          ],
          "scatter": [
           {
            "fillpattern": {
             "fillmode": "overlay",
             "size": 10,
             "solidity": 0.2
            },
            "type": "scatter"
           }
          ],
          "scatter3d": [
           {
            "line": {
             "colorbar": {
              "outlinewidth": 0,
              "ticks": ""
             }
            },
            "marker": {
             "colorbar": {
              "outlinewidth": 0,
              "ticks": ""
             }
            },
            "type": "scatter3d"
           }
          ],
          "scattercarpet": [
           {
            "marker": {
             "colorbar": {
              "outlinewidth": 0,
              "ticks": ""
             }
            },
            "type": "scattercarpet"
           }
          ],
          "scattergeo": [
           {
            "marker": {
             "colorbar": {
              "outlinewidth": 0,
              "ticks": ""
             }
            },
            "type": "scattergeo"
           }
          ],
          "scattergl": [
           {
            "marker": {
             "colorbar": {
              "outlinewidth": 0,
              "ticks": ""
             }
            },
            "type": "scattergl"
           }
          ],
          "scattermapbox": [
           {
            "marker": {
             "colorbar": {
              "outlinewidth": 0,
              "ticks": ""
             }
            },
            "type": "scattermapbox"
           }
          ],
          "scatterpolar": [
           {
            "marker": {
             "colorbar": {
              "outlinewidth": 0,
              "ticks": ""
             }
            },
            "type": "scatterpolar"
           }
          ],
          "scatterpolargl": [
           {
            "marker": {
             "colorbar": {
              "outlinewidth": 0,
              "ticks": ""
             }
            },
            "type": "scatterpolargl"
           }
          ],
          "scatterternary": [
           {
            "marker": {
             "colorbar": {
              "outlinewidth": 0,
              "ticks": ""
             }
            },
            "type": "scatterternary"
           }
          ],
          "surface": [
           {
            "colorbar": {
             "outlinewidth": 0,
             "ticks": ""
            },
            "colorscale": [
             [
              0,
              "#0d0887"
             ],
             [
              0.1111111111111111,
              "#46039f"
             ],
             [
              0.2222222222222222,
              "#7201a8"
             ],
             [
              0.3333333333333333,
              "#9c179e"
             ],
             [
              0.4444444444444444,
              "#bd3786"
             ],
             [
              0.5555555555555556,
              "#d8576b"
             ],
             [
              0.6666666666666666,
              "#ed7953"
             ],
             [
              0.7777777777777778,
              "#fb9f3a"
             ],
             [
              0.8888888888888888,
              "#fdca26"
             ],
             [
              1,
              "#f0f921"
             ]
            ],
            "type": "surface"
           }
          ],
          "table": [
           {
            "cells": {
             "fill": {
              "color": "#EBF0F8"
             },
             "line": {
              "color": "white"
             }
            },
            "header": {
             "fill": {
              "color": "#C8D4E3"
             },
             "line": {
              "color": "white"
             }
            },
            "type": "table"
           }
          ]
         },
         "layout": {
          "annotationdefaults": {
           "arrowcolor": "#2a3f5f",
           "arrowhead": 0,
           "arrowwidth": 1
          },
          "autotypenumbers": "strict",
          "coloraxis": {
           "colorbar": {
            "outlinewidth": 0,
            "ticks": ""
           }
          },
          "colorscale": {
           "diverging": [
            [
             0,
             "#8e0152"
            ],
            [
             0.1,
             "#c51b7d"
            ],
            [
             0.2,
             "#de77ae"
            ],
            [
             0.3,
             "#f1b6da"
            ],
            [
             0.4,
             "#fde0ef"
            ],
            [
             0.5,
             "#f7f7f7"
            ],
            [
             0.6,
             "#e6f5d0"
            ],
            [
             0.7,
             "#b8e186"
            ],
            [
             0.8,
             "#7fbc41"
            ],
            [
             0.9,
             "#4d9221"
            ],
            [
             1,
             "#276419"
            ]
           ],
           "sequential": [
            [
             0,
             "#0d0887"
            ],
            [
             0.1111111111111111,
             "#46039f"
            ],
            [
             0.2222222222222222,
             "#7201a8"
            ],
            [
             0.3333333333333333,
             "#9c179e"
            ],
            [
             0.4444444444444444,
             "#bd3786"
            ],
            [
             0.5555555555555556,
             "#d8576b"
            ],
            [
             0.6666666666666666,
             "#ed7953"
            ],
            [
             0.7777777777777778,
             "#fb9f3a"
            ],
            [
             0.8888888888888888,
             "#fdca26"
            ],
            [
             1,
             "#f0f921"
            ]
           ],
           "sequentialminus": [
            [
             0,
             "#0d0887"
            ],
            [
             0.1111111111111111,
             "#46039f"
            ],
            [
             0.2222222222222222,
             "#7201a8"
            ],
            [
             0.3333333333333333,
             "#9c179e"
            ],
            [
             0.4444444444444444,
             "#bd3786"
            ],
            [
             0.5555555555555556,
             "#d8576b"
            ],
            [
             0.6666666666666666,
             "#ed7953"
            ],
            [
             0.7777777777777778,
             "#fb9f3a"
            ],
            [
             0.8888888888888888,
             "#fdca26"
            ],
            [
             1,
             "#f0f921"
            ]
           ]
          },
          "colorway": [
           "#636efa",
           "#EF553B",
           "#00cc96",
           "#ab63fa",
           "#FFA15A",
           "#19d3f3",
           "#FF6692",
           "#B6E880",
           "#FF97FF",
           "#FECB52"
          ],
          "font": {
           "color": "#2a3f5f"
          },
          "geo": {
           "bgcolor": "white",
           "lakecolor": "white",
           "landcolor": "#E5ECF6",
           "showlakes": true,
           "showland": true,
           "subunitcolor": "white"
          },
          "hoverlabel": {
           "align": "left"
          },
          "hovermode": "closest",
          "mapbox": {
           "style": "light"
          },
          "paper_bgcolor": "white",
          "plot_bgcolor": "#E5ECF6",
          "polar": {
           "angularaxis": {
            "gridcolor": "white",
            "linecolor": "white",
            "ticks": ""
           },
           "bgcolor": "#E5ECF6",
           "radialaxis": {
            "gridcolor": "white",
            "linecolor": "white",
            "ticks": ""
           }
          },
          "scene": {
           "xaxis": {
            "backgroundcolor": "#E5ECF6",
            "gridcolor": "white",
            "gridwidth": 2,
            "linecolor": "white",
            "showbackground": true,
            "ticks": "",
            "zerolinecolor": "white"
           },
           "yaxis": {
            "backgroundcolor": "#E5ECF6",
            "gridcolor": "white",
            "gridwidth": 2,
            "linecolor": "white",
            "showbackground": true,
            "ticks": "",
            "zerolinecolor": "white"
           },
           "zaxis": {
            "backgroundcolor": "#E5ECF6",
            "gridcolor": "white",
            "gridwidth": 2,
            "linecolor": "white",
            "showbackground": true,
            "ticks": "",
            "zerolinecolor": "white"
           }
          },
          "shapedefaults": {
           "line": {
            "color": "#2a3f5f"
           }
          },
          "ternary": {
           "aaxis": {
            "gridcolor": "white",
            "linecolor": "white",
            "ticks": ""
           },
           "baxis": {
            "gridcolor": "white",
            "linecolor": "white",
            "ticks": ""
           },
           "bgcolor": "#E5ECF6",
           "caxis": {
            "gridcolor": "white",
            "linecolor": "white",
            "ticks": ""
           }
          },
          "title": {
           "x": 0.05
          },
          "xaxis": {
           "automargin": true,
           "gridcolor": "white",
           "linecolor": "white",
           "ticks": "",
           "title": {
            "standoff": 15
           },
           "zerolinecolor": "white",
           "zerolinewidth": 2
          },
          "yaxis": {
           "automargin": true,
           "gridcolor": "white",
           "linecolor": "white",
           "ticks": "",
           "title": {
            "standoff": 15
           },
           "zerolinecolor": "white",
           "zerolinewidth": 2
          }
         }
        },
        "width": 300,
        "xaxis": {
         "anchor": "y",
         "domain": [
          0,
          1
         ]
        },
        "xaxis2": {
         "anchor": "y2",
         "domain": [
          0,
          1
         ]
        },
        "xaxis3": {
         "anchor": "y3",
         "domain": [
          0,
          1
         ]
        },
        "yaxis": {
         "anchor": "x",
         "domain": [
          0.7777777777777778,
          1
         ]
        },
        "yaxis2": {
         "anchor": "x2",
         "domain": [
          0.3888888888888889,
          0.6111111111111112
         ]
        },
        "yaxis3": {
         "anchor": "x3",
         "domain": [
          0,
          0.22222222222222224
         ]
        }
       }
      }
     },
     "metadata": {},
     "output_type": "display_data"
    }
   ],
   "source": [
    "figa.update_layout(height=600, width=300)\n",
    "figa.show()"
   ]
  },
  {
   "cell_type": "code",
   "execution_count": 39,
   "metadata": {},
   "outputs": [
    {
     "name": "stdout",
     "output_type": "stream",
     "text": [
      "AJLKAJLKAJ\n"
     ]
    },
    {
     "data": {
      "text/plain": [
       "(                           Month  Temperature  Price-24  LoadActual  GenTotal  \\\n",
       " 2022-01-02 00:00:00+00:00      1          3.9     80.84      3499.0    5314.0   \n",
       " 2022-01-02 01:00:00+00:00      1          4.3     84.27      3439.0    5234.0   \n",
       " 2022-01-02 02:00:00+00:00      1          4.5     88.92      3426.0    5224.0   \n",
       " 2022-01-02 03:00:00+00:00      1          4.3     73.68      3438.0    5224.0   \n",
       " 2022-01-02 04:00:00+00:00      1          4.4     77.65      3543.0    5203.0   \n",
       " ...                          ...          ...       ...         ...       ...   \n",
       " 2022-08-26 03:00:00+00:00      8         16.9    387.55      3479.0    5241.0   \n",
       " 2022-08-26 04:00:00+00:00      8         16.6    168.73      3753.0    5391.0   \n",
       " 2022-08-26 05:00:00+00:00      8         17.5    314.00      4101.0    5628.0   \n",
       " 2022-08-26 06:00:00+00:00      8         19.9    340.52      4266.0    5892.0   \n",
       " 2022-08-26 07:00:00+00:00      8         23.1    214.23      4267.0    5883.0   \n",
       " \n",
       "                            ImportTotal  \n",
       " 2022-01-02 00:00:00+00:00        483.0  \n",
       " 2022-01-02 01:00:00+00:00        519.0  \n",
       " 2022-01-02 02:00:00+00:00        576.0  \n",
       " 2022-01-02 03:00:00+00:00        699.0  \n",
       " 2022-01-02 04:00:00+00:00        753.0  \n",
       " ...                                ...  \n",
       " 2022-08-26 03:00:00+00:00         26.0  \n",
       " 2022-08-26 04:00:00+00:00         38.0  \n",
       " 2022-08-26 05:00:00+00:00         33.0  \n",
       " 2022-08-26 06:00:00+00:00         16.0  \n",
       " 2022-08-26 07:00:00+00:00         42.0  \n",
       " \n",
       " [5522 rows x 6 columns],\n",
       " Empty DataFrame\n",
       " Columns: [Month, Temperature, Price-24, LoadActual, GenTotal, ImportTotal]\n",
       " Index: [],\n",
       " 2022-01-02 00:00:00+00:00    102.85\n",
       " 2022-01-02 01:00:00+00:00     84.27\n",
       " 2022-01-02 02:00:00+00:00     39.53\n",
       " 2022-01-02 03:00:00+00:00     18.97\n",
       " 2022-01-02 04:00:00+00:00     18.97\n",
       "                               ...  \n",
       " 2022-08-26 03:00:00+00:00    183.59\n",
       " 2022-08-26 04:00:00+00:00    340.52\n",
       " 2022-08-26 05:00:00+00:00    363.99\n",
       " 2022-08-26 06:00:00+00:00    344.86\n",
       " 2022-08-26 07:00:00+00:00    343.00\n",
       " Name: DayAheadPrice, Length: 5522, dtype: float64,\n",
       " Series([], Name: DayAheadPrice, dtype: float64))"
      ]
     },
     "execution_count": 39,
     "metadata": {},
     "output_type": "execute_result"
    }
   ],
   "source": [
    "rs = load_augumented(\"BG\")\n",
    "features=['Month', 'Temperature', 'Price-24', 'LoadActual','GenTotal', 'ImportTotal']\n",
    "day_split(rs, features, \"2022-09-03\")"
   ]
  },
  {
   "cell_type": "code",
   "execution_count": 70,
   "metadata": {},
   "outputs": [
    {
     "name": "stdout",
     "output_type": "stream",
     "text": [
      "['Croatia', 'Romania', 'Slovenia']\n"
     ]
    }
   ],
   "source": [
    "clean=['HR', 'RO', 'SI']\n",
    "list = []\n",
    "[list.append(country_dict[x]) for x in clean]\n",
    "print(list)"
   ]
  },
  {
   "cell_type": "code",
   "execution_count": null,
   "metadata": {},
   "outputs": [],
   "source": []
  }
 ],
 "metadata": {
  "kernelspec": {
   "display_name": "Python 3",
   "language": "python",
   "name": "python3"
  },
  "language_info": {
   "codemirror_mode": {
    "name": "ipython",
    "version": 3
   },
   "file_extension": ".py",
   "mimetype": "text/x-python",
   "name": "python",
   "nbconvert_exporter": "python",
   "pygments_lexer": "ipython3",
   "version": "3.8.10"
  },
  "orig_nbformat": 4
 },
 "nbformat": 4,
 "nbformat_minor": 2
}
